{
 "cells": [
  {
   "cell_type": "markdown",
   "id": "491a8e67",
   "metadata": {},
   "source": [
    "# Исследование данных сервиса аренды самокатов"
   ]
  },
  {
   "cell_type": "markdown",
   "id": "acf14366",
   "metadata": {},
   "source": [
    "В нашем распоряжении данные о клиентах, поездках и подписках сервиса аренды самокатов GoFast. Нашей главной задачей является анализ данных и проверка гипотез, с целью помощи бизнесу в росте. А также определить, явлюятся ли пользователи с подпиской более выгодными для компании..<p>Общий план работы:</p>\n",
    "<p>1) Загрузка данных. </p>\n",
    "<p>2) Предобработка данных.</p>\n",
    "<p>3) Исследовательский анализ данных.</p>\n",
    "<p>4) Объединение данных.</p>\n",
    "<p>5) Подсчёт выручки</p>\n",
    "<p>6) Проверка гипотез.</p>\n",
    "<p>Наиболее важные детали будут включены в общий вывод, также после каждого шага, будет промежуточный вывод.</p>"
   ]
  },
  {
   "cell_type": "markdown",
   "id": "c42cbe00",
   "metadata": {},
   "source": [
    "### Шаг 1. Загрузка данных"
   ]
  },
  {
   "cell_type": "markdown",
   "id": "ca79c5ba",
   "metadata": {},
   "source": [
    "Импортируем нужные библиотеки"
   ]
  },
  {
   "cell_type": "code",
   "execution_count": 1,
   "id": "3d51cdbf",
   "metadata": {},
   "outputs": [],
   "source": [
    "import numpy as np\n",
    "import pandas as pd\n",
    "import matplotlib.pyplot as plt\n",
    "import seaborn as sb\n",
    "from scipy import stats as st"
   ]
  },
  {
   "cell_type": "markdown",
   "id": "264036b2",
   "metadata": {},
   "source": [
    "Считаем все необходимые CSV-файлы и сохраним их в датафреймы"
   ]
  },
  {
   "cell_type": "code",
   "execution_count": 2,
   "id": "eff9f206",
   "metadata": {},
   "outputs": [],
   "source": [
    "users = pd.read_csv('/datasets/users_go.csv')\n",
    "rides = pd.read_csv('/datasets/rides_go.csv')\n",
    "subs =  pd.read_csv('/datasets/subscriptions_go.csv')"
   ]
  },
  {
   "cell_type": "markdown",
   "id": "f5fa3464",
   "metadata": {},
   "source": [
    "Изучим общую информацию датафрейма users"
   ]
  },
  {
   "cell_type": "code",
   "execution_count": 3,
   "id": "992ace8e",
   "metadata": {},
   "outputs": [
    {
     "data": {
      "text/html": [
       "<div>\n",
       "<style scoped>\n",
       "    .dataframe tbody tr th:only-of-type {\n",
       "        vertical-align: middle;\n",
       "    }\n",
       "\n",
       "    .dataframe tbody tr th {\n",
       "        vertical-align: top;\n",
       "    }\n",
       "\n",
       "    .dataframe thead th {\n",
       "        text-align: right;\n",
       "    }\n",
       "</style>\n",
       "<table border=\"1\" class=\"dataframe\">\n",
       "  <thead>\n",
       "    <tr style=\"text-align: right;\">\n",
       "      <th></th>\n",
       "      <th>user_id</th>\n",
       "      <th>name</th>\n",
       "      <th>age</th>\n",
       "      <th>city</th>\n",
       "      <th>subscription_type</th>\n",
       "    </tr>\n",
       "  </thead>\n",
       "  <tbody>\n",
       "    <tr>\n",
       "      <th>0</th>\n",
       "      <td>1</td>\n",
       "      <td>Кира</td>\n",
       "      <td>22</td>\n",
       "      <td>Тюмень</td>\n",
       "      <td>ultra</td>\n",
       "    </tr>\n",
       "    <tr>\n",
       "      <th>1</th>\n",
       "      <td>2</td>\n",
       "      <td>Станислав</td>\n",
       "      <td>31</td>\n",
       "      <td>Омск</td>\n",
       "      <td>ultra</td>\n",
       "    </tr>\n",
       "    <tr>\n",
       "      <th>2</th>\n",
       "      <td>3</td>\n",
       "      <td>Алексей</td>\n",
       "      <td>20</td>\n",
       "      <td>Москва</td>\n",
       "      <td>ultra</td>\n",
       "    </tr>\n",
       "    <tr>\n",
       "      <th>3</th>\n",
       "      <td>4</td>\n",
       "      <td>Константин</td>\n",
       "      <td>26</td>\n",
       "      <td>Ростов-на-Дону</td>\n",
       "      <td>ultra</td>\n",
       "    </tr>\n",
       "    <tr>\n",
       "      <th>4</th>\n",
       "      <td>5</td>\n",
       "      <td>Адель</td>\n",
       "      <td>28</td>\n",
       "      <td>Омск</td>\n",
       "      <td>ultra</td>\n",
       "    </tr>\n",
       "    <tr>\n",
       "      <th>5</th>\n",
       "      <td>6</td>\n",
       "      <td>Регина</td>\n",
       "      <td>25</td>\n",
       "      <td>Краснодар</td>\n",
       "      <td>ultra</td>\n",
       "    </tr>\n",
       "    <tr>\n",
       "      <th>6</th>\n",
       "      <td>7</td>\n",
       "      <td>Игорь</td>\n",
       "      <td>23</td>\n",
       "      <td>Омск</td>\n",
       "      <td>ultra</td>\n",
       "    </tr>\n",
       "    <tr>\n",
       "      <th>7</th>\n",
       "      <td>8</td>\n",
       "      <td>Юрий</td>\n",
       "      <td>23</td>\n",
       "      <td>Краснодар</td>\n",
       "      <td>ultra</td>\n",
       "    </tr>\n",
       "    <tr>\n",
       "      <th>8</th>\n",
       "      <td>9</td>\n",
       "      <td>Ян</td>\n",
       "      <td>21</td>\n",
       "      <td>Пятигорск</td>\n",
       "      <td>ultra</td>\n",
       "    </tr>\n",
       "    <tr>\n",
       "      <th>9</th>\n",
       "      <td>10</td>\n",
       "      <td>Валерий</td>\n",
       "      <td>18</td>\n",
       "      <td>Екатеринбург</td>\n",
       "      <td>ultra</td>\n",
       "    </tr>\n",
       "  </tbody>\n",
       "</table>\n",
       "</div>"
      ],
      "text/plain": [
       "   user_id        name  age            city subscription_type\n",
       "0        1        Кира   22          Тюмень             ultra\n",
       "1        2   Станислав   31            Омск             ultra\n",
       "2        3     Алексей   20          Москва             ultra\n",
       "3        4  Константин   26  Ростов-на-Дону             ultra\n",
       "4        5       Адель   28            Омск             ultra\n",
       "5        6      Регина   25       Краснодар             ultra\n",
       "6        7       Игорь   23            Омск             ultra\n",
       "7        8        Юрий   23       Краснодар             ultra\n",
       "8        9          Ян   21       Пятигорск             ultra\n",
       "9       10     Валерий   18    Екатеринбург             ultra"
      ]
     },
     "metadata": {},
     "output_type": "display_data"
    },
    {
     "data": {
      "text/html": [
       "<div>\n",
       "<style scoped>\n",
       "    .dataframe tbody tr th:only-of-type {\n",
       "        vertical-align: middle;\n",
       "    }\n",
       "\n",
       "    .dataframe tbody tr th {\n",
       "        vertical-align: top;\n",
       "    }\n",
       "\n",
       "    .dataframe thead th {\n",
       "        text-align: right;\n",
       "    }\n",
       "</style>\n",
       "<table border=\"1\" class=\"dataframe\">\n",
       "  <thead>\n",
       "    <tr style=\"text-align: right;\">\n",
       "      <th></th>\n",
       "      <th>user_id</th>\n",
       "      <th>name</th>\n",
       "      <th>age</th>\n",
       "      <th>city</th>\n",
       "      <th>subscription_type</th>\n",
       "    </tr>\n",
       "  </thead>\n",
       "  <tbody>\n",
       "    <tr>\n",
       "      <th>1555</th>\n",
       "      <td>72</td>\n",
       "      <td>Никита</td>\n",
       "      <td>25</td>\n",
       "      <td>Москва</td>\n",
       "      <td>ultra</td>\n",
       "    </tr>\n",
       "    <tr>\n",
       "      <th>1556</th>\n",
       "      <td>422</td>\n",
       "      <td>Кирилл</td>\n",
       "      <td>27</td>\n",
       "      <td>Сочи</td>\n",
       "      <td>ultra</td>\n",
       "    </tr>\n",
       "    <tr>\n",
       "      <th>1557</th>\n",
       "      <td>611</td>\n",
       "      <td>Владимир</td>\n",
       "      <td>28</td>\n",
       "      <td>Омск</td>\n",
       "      <td>ultra</td>\n",
       "    </tr>\n",
       "    <tr>\n",
       "      <th>1558</th>\n",
       "      <td>1237</td>\n",
       "      <td>Евгения</td>\n",
       "      <td>23</td>\n",
       "      <td>Тюмень</td>\n",
       "      <td>free</td>\n",
       "    </tr>\n",
       "    <tr>\n",
       "      <th>1559</th>\n",
       "      <td>209</td>\n",
       "      <td>Андрей</td>\n",
       "      <td>23</td>\n",
       "      <td>Омск</td>\n",
       "      <td>ultra</td>\n",
       "    </tr>\n",
       "    <tr>\n",
       "      <th>1560</th>\n",
       "      <td>829</td>\n",
       "      <td>Федор</td>\n",
       "      <td>29</td>\n",
       "      <td>Пятигорск</td>\n",
       "      <td>free</td>\n",
       "    </tr>\n",
       "    <tr>\n",
       "      <th>1561</th>\n",
       "      <td>809</td>\n",
       "      <td>Юрий</td>\n",
       "      <td>26</td>\n",
       "      <td>Сочи</td>\n",
       "      <td>free</td>\n",
       "    </tr>\n",
       "    <tr>\n",
       "      <th>1562</th>\n",
       "      <td>307</td>\n",
       "      <td>Ясмина</td>\n",
       "      <td>19</td>\n",
       "      <td>Краснодар</td>\n",
       "      <td>ultra</td>\n",
       "    </tr>\n",
       "    <tr>\n",
       "      <th>1563</th>\n",
       "      <td>47</td>\n",
       "      <td>Юрий</td>\n",
       "      <td>28</td>\n",
       "      <td>Тюмень</td>\n",
       "      <td>ultra</td>\n",
       "    </tr>\n",
       "    <tr>\n",
       "      <th>1564</th>\n",
       "      <td>1045</td>\n",
       "      <td>Артемий</td>\n",
       "      <td>28</td>\n",
       "      <td>Ростов-на-Дону</td>\n",
       "      <td>free</td>\n",
       "    </tr>\n",
       "  </tbody>\n",
       "</table>\n",
       "</div>"
      ],
      "text/plain": [
       "      user_id      name  age            city subscription_type\n",
       "1555       72    Никита   25          Москва             ultra\n",
       "1556      422    Кирилл   27            Сочи             ultra\n",
       "1557      611  Владимир   28            Омск             ultra\n",
       "1558     1237   Евгения   23          Тюмень              free\n",
       "1559      209    Андрей   23            Омск             ultra\n",
       "1560      829     Федор   29       Пятигорск              free\n",
       "1561      809      Юрий   26            Сочи              free\n",
       "1562      307    Ясмина   19       Краснодар             ultra\n",
       "1563       47      Юрий   28          Тюмень             ultra\n",
       "1564     1045   Артемий   28  Ростов-на-Дону              free"
      ]
     },
     "metadata": {},
     "output_type": "display_data"
    },
    {
     "name": "stdout",
     "output_type": "stream",
     "text": [
      "<class 'pandas.core.frame.DataFrame'>\n",
      "RangeIndex: 1565 entries, 0 to 1564\n",
      "Data columns (total 5 columns):\n",
      " #   Column             Non-Null Count  Dtype \n",
      "---  ------             --------------  ----- \n",
      " 0   user_id            1565 non-null   int64 \n",
      " 1   name               1565 non-null   object\n",
      " 2   age                1565 non-null   int64 \n",
      " 3   city               1565 non-null   object\n",
      " 4   subscription_type  1565 non-null   object\n",
      "dtypes: int64(2), object(3)\n",
      "memory usage: 61.3+ KB\n"
     ]
    },
    {
     "data": {
      "text/plain": [
       "user_id              0\n",
       "name                 0\n",
       "age                  0\n",
       "city                 0\n",
       "subscription_type    0\n",
       "dtype: int64"
      ]
     },
     "execution_count": 3,
     "metadata": {},
     "output_type": "execute_result"
    }
   ],
   "source": [
    "display(users.head(10))\n",
    "display(users.tail(10))\n",
    "users.info()\n",
    "users.value_counts().sum()\n",
    "users.isna().sum()"
   ]
  },
  {
   "cell_type": "markdown",
   "id": "cc9cea4c",
   "metadata": {},
   "source": [
    "В users мы имеем 5 столбцов: id пользователя, имя, возраст, город и тип подписки. Всего 1565 строк, пропущенных значений не обнаружено."
   ]
  },
  {
   "cell_type": "markdown",
   "id": "1fa172c9",
   "metadata": {},
   "source": [
    "Далее набор данных rides"
   ]
  },
  {
   "cell_type": "code",
   "execution_count": 4,
   "id": "9006a0d8",
   "metadata": {},
   "outputs": [
    {
     "data": {
      "text/html": [
       "<div>\n",
       "<style scoped>\n",
       "    .dataframe tbody tr th:only-of-type {\n",
       "        vertical-align: middle;\n",
       "    }\n",
       "\n",
       "    .dataframe tbody tr th {\n",
       "        vertical-align: top;\n",
       "    }\n",
       "\n",
       "    .dataframe thead th {\n",
       "        text-align: right;\n",
       "    }\n",
       "</style>\n",
       "<table border=\"1\" class=\"dataframe\">\n",
       "  <thead>\n",
       "    <tr style=\"text-align: right;\">\n",
       "      <th></th>\n",
       "      <th>user_id</th>\n",
       "      <th>distance</th>\n",
       "      <th>duration</th>\n",
       "      <th>date</th>\n",
       "    </tr>\n",
       "  </thead>\n",
       "  <tbody>\n",
       "    <tr>\n",
       "      <th>0</th>\n",
       "      <td>1</td>\n",
       "      <td>4409.919140</td>\n",
       "      <td>25.599769</td>\n",
       "      <td>2021-01-01</td>\n",
       "    </tr>\n",
       "    <tr>\n",
       "      <th>1</th>\n",
       "      <td>1</td>\n",
       "      <td>2617.592153</td>\n",
       "      <td>15.816871</td>\n",
       "      <td>2021-01-18</td>\n",
       "    </tr>\n",
       "    <tr>\n",
       "      <th>2</th>\n",
       "      <td>1</td>\n",
       "      <td>754.159807</td>\n",
       "      <td>6.232113</td>\n",
       "      <td>2021-04-20</td>\n",
       "    </tr>\n",
       "    <tr>\n",
       "      <th>3</th>\n",
       "      <td>1</td>\n",
       "      <td>2694.783254</td>\n",
       "      <td>18.511000</td>\n",
       "      <td>2021-08-11</td>\n",
       "    </tr>\n",
       "    <tr>\n",
       "      <th>4</th>\n",
       "      <td>1</td>\n",
       "      <td>4028.687306</td>\n",
       "      <td>26.265803</td>\n",
       "      <td>2021-08-28</td>\n",
       "    </tr>\n",
       "    <tr>\n",
       "      <th>5</th>\n",
       "      <td>1</td>\n",
       "      <td>2770.890808</td>\n",
       "      <td>16.650138</td>\n",
       "      <td>2021-10-09</td>\n",
       "    </tr>\n",
       "    <tr>\n",
       "      <th>6</th>\n",
       "      <td>1</td>\n",
       "      <td>3039.020292</td>\n",
       "      <td>14.927879</td>\n",
       "      <td>2021-10-19</td>\n",
       "    </tr>\n",
       "    <tr>\n",
       "      <th>7</th>\n",
       "      <td>1</td>\n",
       "      <td>2842.118050</td>\n",
       "      <td>23.117468</td>\n",
       "      <td>2021-11-06</td>\n",
       "    </tr>\n",
       "    <tr>\n",
       "      <th>8</th>\n",
       "      <td>1</td>\n",
       "      <td>3412.690668</td>\n",
       "      <td>15.238072</td>\n",
       "      <td>2021-11-14</td>\n",
       "    </tr>\n",
       "    <tr>\n",
       "      <th>9</th>\n",
       "      <td>1</td>\n",
       "      <td>748.690645</td>\n",
       "      <td>15.041884</td>\n",
       "      <td>2021-11-22</td>\n",
       "    </tr>\n",
       "  </tbody>\n",
       "</table>\n",
       "</div>"
      ],
      "text/plain": [
       "   user_id     distance   duration        date\n",
       "0        1  4409.919140  25.599769  2021-01-01\n",
       "1        1  2617.592153  15.816871  2021-01-18\n",
       "2        1   754.159807   6.232113  2021-04-20\n",
       "3        1  2694.783254  18.511000  2021-08-11\n",
       "4        1  4028.687306  26.265803  2021-08-28\n",
       "5        1  2770.890808  16.650138  2021-10-09\n",
       "6        1  3039.020292  14.927879  2021-10-19\n",
       "7        1  2842.118050  23.117468  2021-11-06\n",
       "8        1  3412.690668  15.238072  2021-11-14\n",
       "9        1   748.690645  15.041884  2021-11-22"
      ]
     },
     "metadata": {},
     "output_type": "display_data"
    },
    {
     "data": {
      "text/html": [
       "<div>\n",
       "<style scoped>\n",
       "    .dataframe tbody tr th:only-of-type {\n",
       "        vertical-align: middle;\n",
       "    }\n",
       "\n",
       "    .dataframe tbody tr th {\n",
       "        vertical-align: top;\n",
       "    }\n",
       "\n",
       "    .dataframe thead th {\n",
       "        text-align: right;\n",
       "    }\n",
       "</style>\n",
       "<table border=\"1\" class=\"dataframe\">\n",
       "  <thead>\n",
       "    <tr style=\"text-align: right;\">\n",
       "      <th></th>\n",
       "      <th>user_id</th>\n",
       "      <th>distance</th>\n",
       "      <th>duration</th>\n",
       "      <th>date</th>\n",
       "    </tr>\n",
       "  </thead>\n",
       "  <tbody>\n",
       "    <tr>\n",
       "      <th>18058</th>\n",
       "      <td>1534</td>\n",
       "      <td>195.447469</td>\n",
       "      <td>6.469074</td>\n",
       "      <td>2021-06-11</td>\n",
       "    </tr>\n",
       "    <tr>\n",
       "      <th>18059</th>\n",
       "      <td>1534</td>\n",
       "      <td>3214.021065</td>\n",
       "      <td>18.343604</td>\n",
       "      <td>2021-06-18</td>\n",
       "    </tr>\n",
       "    <tr>\n",
       "      <th>18060</th>\n",
       "      <td>1534</td>\n",
       "      <td>3644.708038</td>\n",
       "      <td>20.289416</td>\n",
       "      <td>2021-08-08</td>\n",
       "    </tr>\n",
       "    <tr>\n",
       "      <th>18061</th>\n",
       "      <td>1534</td>\n",
       "      <td>3977.744996</td>\n",
       "      <td>26.916544</td>\n",
       "      <td>2021-08-20</td>\n",
       "    </tr>\n",
       "    <tr>\n",
       "      <th>18062</th>\n",
       "      <td>1534</td>\n",
       "      <td>4928.173852</td>\n",
       "      <td>22.560373</td>\n",
       "      <td>2021-09-13</td>\n",
       "    </tr>\n",
       "    <tr>\n",
       "      <th>18063</th>\n",
       "      <td>1534</td>\n",
       "      <td>3781.098080</td>\n",
       "      <td>19.822962</td>\n",
       "      <td>2021-11-04</td>\n",
       "    </tr>\n",
       "    <tr>\n",
       "      <th>18064</th>\n",
       "      <td>1534</td>\n",
       "      <td>2840.423057</td>\n",
       "      <td>21.409799</td>\n",
       "      <td>2021-11-16</td>\n",
       "    </tr>\n",
       "    <tr>\n",
       "      <th>18065</th>\n",
       "      <td>1534</td>\n",
       "      <td>3826.185507</td>\n",
       "      <td>18.435051</td>\n",
       "      <td>2021-11-18</td>\n",
       "    </tr>\n",
       "    <tr>\n",
       "      <th>18066</th>\n",
       "      <td>1534</td>\n",
       "      <td>2902.308661</td>\n",
       "      <td>16.674362</td>\n",
       "      <td>2021-11-27</td>\n",
       "    </tr>\n",
       "    <tr>\n",
       "      <th>18067</th>\n",
       "      <td>1534</td>\n",
       "      <td>2371.711192</td>\n",
       "      <td>15.893917</td>\n",
       "      <td>2021-12-29</td>\n",
       "    </tr>\n",
       "  </tbody>\n",
       "</table>\n",
       "</div>"
      ],
      "text/plain": [
       "       user_id     distance   duration        date\n",
       "18058     1534   195.447469   6.469074  2021-06-11\n",
       "18059     1534  3214.021065  18.343604  2021-06-18\n",
       "18060     1534  3644.708038  20.289416  2021-08-08\n",
       "18061     1534  3977.744996  26.916544  2021-08-20\n",
       "18062     1534  4928.173852  22.560373  2021-09-13\n",
       "18063     1534  3781.098080  19.822962  2021-11-04\n",
       "18064     1534  2840.423057  21.409799  2021-11-16\n",
       "18065     1534  3826.185507  18.435051  2021-11-18\n",
       "18066     1534  2902.308661  16.674362  2021-11-27\n",
       "18067     1534  2371.711192  15.893917  2021-12-29"
      ]
     },
     "metadata": {},
     "output_type": "display_data"
    },
    {
     "name": "stdout",
     "output_type": "stream",
     "text": [
      "<class 'pandas.core.frame.DataFrame'>\n",
      "RangeIndex: 18068 entries, 0 to 18067\n",
      "Data columns (total 4 columns):\n",
      " #   Column    Non-Null Count  Dtype  \n",
      "---  ------    --------------  -----  \n",
      " 0   user_id   18068 non-null  int64  \n",
      " 1   distance  18068 non-null  float64\n",
      " 2   duration  18068 non-null  float64\n",
      " 3   date      18068 non-null  object \n",
      "dtypes: float64(2), int64(1), object(1)\n",
      "memory usage: 564.8+ KB\n"
     ]
    },
    {
     "data": {
      "text/plain": [
       "user_id     0\n",
       "distance    0\n",
       "duration    0\n",
       "date        0\n",
       "dtype: int64"
      ]
     },
     "execution_count": 4,
     "metadata": {},
     "output_type": "execute_result"
    }
   ],
   "source": [
    "display(rides.head(10))\n",
    "display(rides.tail(10))\n",
    "rides.info()\n",
    "rides.value_counts().sum()\n",
    "rides.isna().sum()"
   ]
  },
  {
   "cell_type": "markdown",
   "id": "23ebb284",
   "metadata": {},
   "source": [
    "В rides мы имеем 4 столбца: id пользователя, преодолённая дистанция(предположительно в метрах), длительность поездки(предположительно в минутах) и дата поездки. Всего 18068 строк, пропусков не обнаружено. Столбец date нужно привести к формату даты, также следует добавить новый столбец с номером месяца."
   ]
  },
  {
   "cell_type": "markdown",
   "id": "0b628c7c",
   "metadata": {},
   "source": [
    "Последний, интересующий нас датафрейм subs"
   ]
  },
  {
   "cell_type": "code",
   "execution_count": 5,
   "id": "3ecffc26",
   "metadata": {},
   "outputs": [
    {
     "data": {
      "text/html": [
       "<div>\n",
       "<style scoped>\n",
       "    .dataframe tbody tr th:only-of-type {\n",
       "        vertical-align: middle;\n",
       "    }\n",
       "\n",
       "    .dataframe tbody tr th {\n",
       "        vertical-align: top;\n",
       "    }\n",
       "\n",
       "    .dataframe thead th {\n",
       "        text-align: right;\n",
       "    }\n",
       "</style>\n",
       "<table border=\"1\" class=\"dataframe\">\n",
       "  <thead>\n",
       "    <tr style=\"text-align: right;\">\n",
       "      <th></th>\n",
       "      <th>subscription_type</th>\n",
       "      <th>minute_price</th>\n",
       "      <th>start_ride_price</th>\n",
       "      <th>subscription_fee</th>\n",
       "    </tr>\n",
       "  </thead>\n",
       "  <tbody>\n",
       "    <tr>\n",
       "      <th>0</th>\n",
       "      <td>free</td>\n",
       "      <td>8</td>\n",
       "      <td>50</td>\n",
       "      <td>0</td>\n",
       "    </tr>\n",
       "    <tr>\n",
       "      <th>1</th>\n",
       "      <td>ultra</td>\n",
       "      <td>6</td>\n",
       "      <td>0</td>\n",
       "      <td>199</td>\n",
       "    </tr>\n",
       "  </tbody>\n",
       "</table>\n",
       "</div>"
      ],
      "text/plain": [
       "  subscription_type  minute_price  start_ride_price  subscription_fee\n",
       "0              free             8                50                 0\n",
       "1             ultra             6                 0               199"
      ]
     },
     "metadata": {},
     "output_type": "display_data"
    },
    {
     "data": {
      "text/html": [
       "<div>\n",
       "<style scoped>\n",
       "    .dataframe tbody tr th:only-of-type {\n",
       "        vertical-align: middle;\n",
       "    }\n",
       "\n",
       "    .dataframe tbody tr th {\n",
       "        vertical-align: top;\n",
       "    }\n",
       "\n",
       "    .dataframe thead th {\n",
       "        text-align: right;\n",
       "    }\n",
       "</style>\n",
       "<table border=\"1\" class=\"dataframe\">\n",
       "  <thead>\n",
       "    <tr style=\"text-align: right;\">\n",
       "      <th></th>\n",
       "      <th>subscription_type</th>\n",
       "      <th>minute_price</th>\n",
       "      <th>start_ride_price</th>\n",
       "      <th>subscription_fee</th>\n",
       "    </tr>\n",
       "  </thead>\n",
       "  <tbody>\n",
       "    <tr>\n",
       "      <th>0</th>\n",
       "      <td>free</td>\n",
       "      <td>8</td>\n",
       "      <td>50</td>\n",
       "      <td>0</td>\n",
       "    </tr>\n",
       "    <tr>\n",
       "      <th>1</th>\n",
       "      <td>ultra</td>\n",
       "      <td>6</td>\n",
       "      <td>0</td>\n",
       "      <td>199</td>\n",
       "    </tr>\n",
       "  </tbody>\n",
       "</table>\n",
       "</div>"
      ],
      "text/plain": [
       "  subscription_type  minute_price  start_ride_price  subscription_fee\n",
       "0              free             8                50                 0\n",
       "1             ultra             6                 0               199"
      ]
     },
     "metadata": {},
     "output_type": "display_data"
    },
    {
     "name": "stdout",
     "output_type": "stream",
     "text": [
      "<class 'pandas.core.frame.DataFrame'>\n",
      "RangeIndex: 2 entries, 0 to 1\n",
      "Data columns (total 4 columns):\n",
      " #   Column             Non-Null Count  Dtype \n",
      "---  ------             --------------  ----- \n",
      " 0   subscription_type  2 non-null      object\n",
      " 1   minute_price       2 non-null      int64 \n",
      " 2   start_ride_price   2 non-null      int64 \n",
      " 3   subscription_fee   2 non-null      int64 \n",
      "dtypes: int64(3), object(1)\n",
      "memory usage: 192.0+ bytes\n"
     ]
    },
    {
     "data": {
      "text/plain": [
       "subscription_type    0\n",
       "minute_price         0\n",
       "start_ride_price     0\n",
       "subscription_fee     0\n",
       "dtype: int64"
      ]
     },
     "execution_count": 5,
     "metadata": {},
     "output_type": "execute_result"
    }
   ],
   "source": [
    "display(subs.head(10))\n",
    "display(subs.tail(10))\n",
    "subs.info()\n",
    "subs.value_counts().sum()\n",
    "subs.isna().sum()"
   ]
  },
  {
   "cell_type": "markdown",
   "id": "fc8fd731",
   "metadata": {},
   "source": [
    "В subs мы имеем 4 столбца: тип подписки, цена за минуту, цена за старт, цена подписки. Всего 2 строки. Пропущенный значений не обнаружено."
   ]
  },
  {
   "cell_type": "markdown",
   "id": "708b3282",
   "metadata": {},
   "source": [
    "#### Вывод:\n",
    "* users — информация о пользователях: их айди, имя, возраст, город и тип подписки.\n",
    "* rides — информация о поездках на самокатах: айди пользователей, длительность и дистанция поездки, дата поездки.\n",
    "* subs — информация о самой подписке: тип подписки, цена за минуту, цена старта и цена.<p>Данные достаточно чистые, особой предобработки не требуют, пропущенные значения отсутствуют, но кое-что нужно подкорректировать. </p>"
   ]
  },
  {
   "cell_type": "markdown",
   "id": "e95ebca7",
   "metadata": {},
   "source": [
    "### Шаг 2. Предобработка данных"
   ]
  },
  {
   "cell_type": "markdown",
   "id": "56e7ab2f",
   "metadata": {},
   "source": [
    "#### Датафрейм users"
   ]
  },
  {
   "cell_type": "markdown",
   "id": "d5406e6a",
   "metadata": {},
   "source": [
    "Начнём по порядку, проверим датафрейм users на дубликаты."
   ]
  },
  {
   "cell_type": "code",
   "execution_count": 6,
   "id": "c832fc3f",
   "metadata": {},
   "outputs": [
    {
     "data": {
      "text/plain": [
       "31"
      ]
     },
     "execution_count": 6,
     "metadata": {},
     "output_type": "execute_result"
    }
   ],
   "source": [
    "users.duplicated().sum()"
   ]
  },
  {
   "cell_type": "markdown",
   "id": "70045282",
   "metadata": {},
   "source": [
    "Всего в датафрейме обнаружен 31 дубликат, проверим по столбцам"
   ]
  },
  {
   "cell_type": "code",
   "execution_count": 7,
   "id": "52a2be4c",
   "metadata": {},
   "outputs": [
    {
     "data": {
      "text/plain": [
       "209     2\n",
       "807     2\n",
       "611     2\n",
       "43      2\n",
       "737     2\n",
       "       ..\n",
       "520     1\n",
       "519     1\n",
       "518     1\n",
       "517     1\n",
       "1534    1\n",
       "Name: user_id, Length: 1534, dtype: int64"
      ]
     },
     "execution_count": 7,
     "metadata": {},
     "output_type": "execute_result"
    }
   ],
   "source": [
    "users['user_id'].duplicated().sum()\n",
    "users['user_id'].value_counts()"
   ]
  },
  {
   "cell_type": "markdown",
   "id": "10b15f29",
   "metadata": {},
   "source": [
    "Похоже все дубликаты в первом столбце, некоторые id повторяются два раза. Избавимся от дубликатов"
   ]
  },
  {
   "cell_type": "code",
   "execution_count": 8,
   "id": "5bdc1416",
   "metadata": {},
   "outputs": [
    {
     "data": {
      "text/plain": [
       "0"
      ]
     },
     "execution_count": 8,
     "metadata": {},
     "output_type": "execute_result"
    }
   ],
   "source": [
    "users['user_id'] = users['user_id'].drop_duplicates()\n",
    "users.duplicated().sum()"
   ]
  },
  {
   "cell_type": "markdown",
   "id": "7816bf5d",
   "metadata": {},
   "source": [
    "От явных дубликатов избавились, теперь проверим на неявные дубликаты столбец city."
   ]
  },
  {
   "cell_type": "code",
   "execution_count": 9,
   "id": "169e1d89",
   "metadata": {},
   "outputs": [
    {
     "data": {
      "text/plain": [
       "array(['Тюмень', 'Омск', 'Москва', 'Ростов-на-Дону', 'Краснодар',\n",
       "       'Пятигорск', 'Екатеринбург', 'Сочи'], dtype=object)"
      ]
     },
     "execution_count": 9,
     "metadata": {},
     "output_type": "execute_result"
    }
   ],
   "source": [
    "users['city'].unique()"
   ]
  },
  {
   "cell_type": "markdown",
   "id": "2c9a9d8f",
   "metadata": {},
   "source": [
    "Тщательной проверки не понадобилось, из списка уникальных значений становится ясно, что дуликаты отсутствуют. Так как ранее мы убедились, что пропуски отсутствуют, можно переходить к следующему датафрейму."
   ]
  },
  {
   "cell_type": "markdown",
   "id": "e1ae5a60",
   "metadata": {},
   "source": [
    "#### Датафрейм rides"
   ]
  },
  {
   "cell_type": "markdown",
   "id": "d277f7ac",
   "metadata": {},
   "source": [
    "Для начала необходимо привести столбец date к формату даты."
   ]
  },
  {
   "cell_type": "code",
   "execution_count": 10,
   "id": "a92aff07",
   "metadata": {},
   "outputs": [
    {
     "data": {
      "text/html": [
       "<div>\n",
       "<style scoped>\n",
       "    .dataframe tbody tr th:only-of-type {\n",
       "        vertical-align: middle;\n",
       "    }\n",
       "\n",
       "    .dataframe tbody tr th {\n",
       "        vertical-align: top;\n",
       "    }\n",
       "\n",
       "    .dataframe thead th {\n",
       "        text-align: right;\n",
       "    }\n",
       "</style>\n",
       "<table border=\"1\" class=\"dataframe\">\n",
       "  <thead>\n",
       "    <tr style=\"text-align: right;\">\n",
       "      <th></th>\n",
       "      <th>user_id</th>\n",
       "      <th>distance</th>\n",
       "      <th>duration</th>\n",
       "      <th>date</th>\n",
       "    </tr>\n",
       "  </thead>\n",
       "  <tbody>\n",
       "    <tr>\n",
       "      <th>0</th>\n",
       "      <td>1</td>\n",
       "      <td>4409.919140</td>\n",
       "      <td>25.599769</td>\n",
       "      <td>2021-01-01</td>\n",
       "    </tr>\n",
       "    <tr>\n",
       "      <th>1</th>\n",
       "      <td>1</td>\n",
       "      <td>2617.592153</td>\n",
       "      <td>15.816871</td>\n",
       "      <td>2021-01-18</td>\n",
       "    </tr>\n",
       "    <tr>\n",
       "      <th>2</th>\n",
       "      <td>1</td>\n",
       "      <td>754.159807</td>\n",
       "      <td>6.232113</td>\n",
       "      <td>2021-04-20</td>\n",
       "    </tr>\n",
       "    <tr>\n",
       "      <th>3</th>\n",
       "      <td>1</td>\n",
       "      <td>2694.783254</td>\n",
       "      <td>18.511000</td>\n",
       "      <td>2021-08-11</td>\n",
       "    </tr>\n",
       "    <tr>\n",
       "      <th>4</th>\n",
       "      <td>1</td>\n",
       "      <td>4028.687306</td>\n",
       "      <td>26.265803</td>\n",
       "      <td>2021-08-28</td>\n",
       "    </tr>\n",
       "  </tbody>\n",
       "</table>\n",
       "</div>"
      ],
      "text/plain": [
       "   user_id     distance   duration       date\n",
       "0        1  4409.919140  25.599769 2021-01-01\n",
       "1        1  2617.592153  15.816871 2021-01-18\n",
       "2        1   754.159807   6.232113 2021-04-20\n",
       "3        1  2694.783254  18.511000 2021-08-11\n",
       "4        1  4028.687306  26.265803 2021-08-28"
      ]
     },
     "metadata": {},
     "output_type": "display_data"
    },
    {
     "name": "stdout",
     "output_type": "stream",
     "text": [
      "<class 'pandas.core.frame.DataFrame'>\n",
      "RangeIndex: 18068 entries, 0 to 18067\n",
      "Data columns (total 4 columns):\n",
      " #   Column    Non-Null Count  Dtype         \n",
      "---  ------    --------------  -----         \n",
      " 0   user_id   18068 non-null  int64         \n",
      " 1   distance  18068 non-null  float64       \n",
      " 2   duration  18068 non-null  float64       \n",
      " 3   date      18068 non-null  datetime64[ns]\n",
      "dtypes: datetime64[ns](1), float64(2), int64(1)\n",
      "memory usage: 564.8 KB\n"
     ]
    }
   ],
   "source": [
    "rides['date'] = pd.to_datetime(rides['date'])\n",
    "display(rides.head())\n",
    "rides.info()"
   ]
  },
  {
   "cell_type": "markdown",
   "id": "0b2ef11d",
   "metadata": {},
   "source": [
    "Привели к формату даты, теперь добавим новый столбец с номером месяца."
   ]
  },
  {
   "cell_type": "code",
   "execution_count": 11,
   "id": "781d2c04",
   "metadata": {
    "scrolled": true
   },
   "outputs": [
    {
     "name": "stdout",
     "output_type": "stream",
     "text": [
      "2021-01-01 00:00:00\n",
      "2021-12-30 00:00:00\n"
     ]
    },
    {
     "data": {
      "text/html": [
       "<div>\n",
       "<style scoped>\n",
       "    .dataframe tbody tr th:only-of-type {\n",
       "        vertical-align: middle;\n",
       "    }\n",
       "\n",
       "    .dataframe tbody tr th {\n",
       "        vertical-align: top;\n",
       "    }\n",
       "\n",
       "    .dataframe thead th {\n",
       "        text-align: right;\n",
       "    }\n",
       "</style>\n",
       "<table border=\"1\" class=\"dataframe\">\n",
       "  <thead>\n",
       "    <tr style=\"text-align: right;\">\n",
       "      <th></th>\n",
       "      <th>user_id</th>\n",
       "      <th>distance</th>\n",
       "      <th>duration</th>\n",
       "      <th>date</th>\n",
       "      <th>month</th>\n",
       "    </tr>\n",
       "  </thead>\n",
       "  <tbody>\n",
       "    <tr>\n",
       "      <th>0</th>\n",
       "      <td>1</td>\n",
       "      <td>4409.919140</td>\n",
       "      <td>25.599769</td>\n",
       "      <td>2021-01-01</td>\n",
       "      <td>1</td>\n",
       "    </tr>\n",
       "    <tr>\n",
       "      <th>1</th>\n",
       "      <td>1</td>\n",
       "      <td>2617.592153</td>\n",
       "      <td>15.816871</td>\n",
       "      <td>2021-01-18</td>\n",
       "      <td>1</td>\n",
       "    </tr>\n",
       "    <tr>\n",
       "      <th>2</th>\n",
       "      <td>1</td>\n",
       "      <td>754.159807</td>\n",
       "      <td>6.232113</td>\n",
       "      <td>2021-04-20</td>\n",
       "      <td>4</td>\n",
       "    </tr>\n",
       "    <tr>\n",
       "      <th>3</th>\n",
       "      <td>1</td>\n",
       "      <td>2694.783254</td>\n",
       "      <td>18.511000</td>\n",
       "      <td>2021-08-11</td>\n",
       "      <td>8</td>\n",
       "    </tr>\n",
       "    <tr>\n",
       "      <th>4</th>\n",
       "      <td>1</td>\n",
       "      <td>4028.687306</td>\n",
       "      <td>26.265803</td>\n",
       "      <td>2021-08-28</td>\n",
       "      <td>8</td>\n",
       "    </tr>\n",
       "  </tbody>\n",
       "</table>\n",
       "</div>"
      ],
      "text/plain": [
       "   user_id     distance   duration       date  month\n",
       "0        1  4409.919140  25.599769 2021-01-01      1\n",
       "1        1  2617.592153  15.816871 2021-01-18      1\n",
       "2        1   754.159807   6.232113 2021-04-20      4\n",
       "3        1  2694.783254  18.511000 2021-08-11      8\n",
       "4        1  4028.687306  26.265803 2021-08-28      8"
      ]
     },
     "execution_count": 11,
     "metadata": {},
     "output_type": "execute_result"
    }
   ],
   "source": [
    "rides['month'] = rides['date'].dt.month\n",
    "print(rides['date'].min())\n",
    "print(rides['date'].max())\n",
    "rides.head()"
   ]
  },
  {
   "cell_type": "markdown",
   "id": "6b443e6a",
   "metadata": {},
   "source": [
    "Данные предоставлены за весь 2021 год"
   ]
  },
  {
   "cell_type": "markdown",
   "id": "7ba1fe0a",
   "metadata": {},
   "source": [
    "Данные почти готовы для работы, осталось проверить на дубликаты"
   ]
  },
  {
   "cell_type": "code",
   "execution_count": 12,
   "id": "6f62fb4e",
   "metadata": {},
   "outputs": [
    {
     "data": {
      "text/plain": [
       "0"
      ]
     },
     "execution_count": 12,
     "metadata": {},
     "output_type": "execute_result"
    }
   ],
   "source": [
    "rides.duplicated().sum()"
   ]
  },
  {
   "cell_type": "markdown",
   "id": "c53bb1cb",
   "metadata": {},
   "source": [
    "Дубликатов не обнаружено."
   ]
  },
  {
   "cell_type": "markdown",
   "id": "7029b541",
   "metadata": {},
   "source": [
    "#### Вывод:\n",
    "* Датафрейм users — избавились от дубликатов в id пользователей.\n",
    "* Датафрейм rides — привели столбец date к формату даты и добавили новый столбец month с номером месяца.\n",
    "* Датафрейм subs в предобработке не нуждался.\n",
    "<p> Можно приступать к работе с данными </p>\n"
   ]
  },
  {
   "cell_type": "markdown",
   "id": "212593c7",
   "metadata": {},
   "source": [
    "### Шаг 3. Исследовательский анализ данных"
   ]
  },
  {
   "cell_type": "markdown",
   "id": "a002fee7",
   "metadata": {},
   "source": [
    "Опишем и визуализируем общую информацию о пользователях и поездках."
   ]
  },
  {
   "cell_type": "markdown",
   "id": "6319c415",
   "metadata": {},
   "source": [
    "#### Частота встречаемости городов"
   ]
  },
  {
   "cell_type": "code",
   "execution_count": 13,
   "id": "e3a4274c",
   "metadata": {},
   "outputs": [
    {
     "data": {
      "text/plain": [
       "Пятигорск         226\n",
       "Екатеринбург      206\n",
       "Ростов-на-Дону    202\n",
       "Краснодар         196\n",
       "Сочи              192\n",
       "Омск              186\n",
       "Тюмень            185\n",
       "Москва            172\n",
       "Name: city, dtype: int64"
      ]
     },
     "execution_count": 13,
     "metadata": {},
     "output_type": "execute_result"
    },
    {
     "data": {
      "image/png": "[encoded data removed]",
      "text/plain": [
       "<Figure size 720x504 with 1 Axes>"
      ]
     },
     "metadata": {
      "needs_background": "light"
     },
     "output_type": "display_data"
    }
   ],
   "source": [
    "plt.subplots(figsize =(10, 7))\n",
    "plt.hist(users['city'], bins=15)\n",
    "plt.title('Частота встречаемости городов')\n",
    "plt.ylabel('Количество упоминаний города')\n",
    "plt.xlabel('Города')\n",
    "users['city'].value_counts()"
   ]
  },
  {
   "cell_type": "markdown",
   "id": "dcc6ff5a",
   "metadata": {},
   "source": [
    "Здесь мы можем наблюдать, что наиболее часто встречается город Пятигорск, за ним идут Екатеринбург и Ростов-на-Дону. Наименее часто встраются такие города как Москва, Тюмень и Омск. Однако в общем и целом частота встречаемости городов распределена достаточно ровно."
   ]
  },
  {
   "cell_type": "markdown",
   "id": "9ad6205b",
   "metadata": {},
   "source": [
    "#### Соотношение пользователей с подпиской и без подписки."
   ]
  },
  {
   "cell_type": "code",
   "execution_count": 14,
   "id": "52ca0876",
   "metadata": {},
   "outputs": [
    {
     "data": {
      "text/plain": [
       "free     846\n",
       "ultra    719\n",
       "Name: subscription_type, dtype: int64"
      ]
     },
     "execution_count": 14,
     "metadata": {},
     "output_type": "execute_result"
    },
    {
     "data": {
      "image/png": "[encoded data removed]",
      "text/plain": [
       "<Figure size 432x288 with 1 Axes>"
      ]
     },
     "metadata": {
      "needs_background": "light"
     },
     "output_type": "display_data"
    }
   ],
   "source": [
    "plt.hist(users['subscription_type'], bins=3)\n",
    "plt.title('Количество пользователей по типу подписки')\n",
    "plt.ylabel('Количество пользователей')\n",
    "plt.xlabel('Пользователи')\n",
    "users['subscription_type'].value_counts()\n"
   ]
  },
  {
   "cell_type": "code",
   "execution_count": 15,
   "id": "f261ca7a",
   "metadata": {},
   "outputs": [
    {
     "name": "stdout",
     "output_type": "stream",
     "text": [
      "Отношение пользователей с подпиской к общему числу пользователей равно: 0.4594249201277955\n",
      "Отношение пользователей без подписки к общему числу пользователей равно: 0.5405750798722044\n"
     ]
    }
   ],
   "source": [
    "free_users = users['subscription_type'].loc[users['subscription_type'] == 'free']\n",
    "ultra_users = users['subscription_type'].loc[users['subscription_type'] == 'ultra']\n",
    "print('Отношение пользователей с подпиской к общему числу пользователей равно:', ultra_users.count() / (ultra_users.count() + free_users.count()))\n",
    "print('Отношение пользователей без подписки к общему числу пользователей равно:', free_users.count() / (ultra_users.count() + free_users.count()))     "
   ]
  },
  {
   "cell_type": "markdown",
   "id": "fd06aada",
   "metadata": {},
   "source": [
    "Для большей наглядности построим также круговую диаграмму."
   ]
  },
  {
   "cell_type": "code",
   "execution_count": 16,
   "id": "ef8a7f7a",
   "metadata": {},
   "outputs": [
    {
     "data": {
      "text/plain": [
       "([<matplotlib.patches.Wedge at 0x7f144104aac0>,\n",
       "  <matplotlib.patches.Wedge at 0x7f144104afa0>],\n",
       " [Text(-0.13983801817517755, 1.0910753084333085, 'free'),\n",
       "  Text(0.1398380181751779, -1.0910753084333082, 'ultra')])"
      ]
     },
     "execution_count": 16,
     "metadata": {},
     "output_type": "execute_result"
    },
    {
     "data": {
      "image/png": "[encoded data removed]",
      "text/plain": [
       "<Figure size 720x504 with 1 Axes>"
      ]
     },
     "metadata": {},
     "output_type": "display_data"
    }
   ],
   "source": [
    "subbs_count = [free_users.count(), ultra_users.count()]\n",
    "subs_type = ['free', 'ultra']\n",
    "fig = plt.figure(figsize =(10, 7))\n",
    "plt.pie(subbs_count, labels = subs_type)"
   ]
  },
  {
   "cell_type": "markdown",
   "id": "ddd6e50d",
   "metadata": {},
   "source": [
    "Здесь мы может наблюдать, что количество пользователей без подписки превышает количество пользователей с подпиской. Количество пользователей без подписки составляет около 54 процентов, в свою очередь количество пользователей с подпиской ополо 46 процентов"
   ]
  },
  {
   "cell_type": "markdown",
   "id": "bd1b0c55",
   "metadata": {},
   "source": [
    "#### Возраст пользователей"
   ]
  },
  {
   "cell_type": "code",
   "execution_count": 18,
   "id": "e2d08c63",
   "metadata": {},
   "outputs": [
    {
     "data": {
      "text/plain": [
       "Text(0, 0.5, 'Количество пользователей')"
      ]
     },
     "execution_count": 18,
     "metadata": {},
     "output_type": "execute_result"
    },
    {
     "data": {
      "image/png": "[encoded data removed]",
      "text/plain": [
       "<Figure size 720x360 with 1 Axes>"
      ]
     },
     "metadata": {
      "needs_background": "light"
     },
     "output_type": "display_data"
    }
   ],
   "source": [
    "users.plot(kind='hist',y='age',grid=True, bins=30, figsize=(10,5),title='Распределение пользователей по возрасту')\n",
    "plt.xlabel('Возраст')\n",
    "plt.ylabel('Количество пользователей')"
   ]
  },
  {
   "cell_type": "markdown",
   "id": "6a1b6fe0",
   "metadata": {},
   "source": [
    "Здесь мы может наблюдать, что наибольшее число пользователей находится в возрастных рамках от 20 до 30 лет. Также можно сделать вывод, что пользователей старше 35 лет наименьший процент."
   ]
  },
  {
   "cell_type": "markdown",
   "id": "c2ceebba",
   "metadata": {},
   "source": [
    "#### Расстояние, которое пользователь преодолел за одну поездку"
   ]
  },
  {
   "cell_type": "code",
   "execution_count": 19,
   "id": "ef5cf791",
   "metadata": {},
   "outputs": [
    {
     "data": {
      "text/plain": [
       "Text(0, 0.5, 'Количество поездок')"
      ]
     },
     "execution_count": 19,
     "metadata": {},
     "output_type": "execute_result"
    },
    {
     "data": {
      "image/png": "[encoded data removed]",
      "text/plain": [
       "<Figure size 720x360 with 1 Axes>"
      ]
     },
     "metadata": {
      "needs_background": "light"
     },
     "output_type": "display_data"
    }
   ],
   "source": [
    "rides.plot(kind='hist',y='distance',grid=True, bins=30, figsize=(10,5),title='Распределение поездок по дистанции одной поездки')\n",
    "plt.xlabel('Дистанция в метрах')\n",
    "plt.ylabel('Количество поездок')"
   ]
  },
  {
   "cell_type": "markdown",
   "id": "03f89cf1",
   "metadata": {},
   "source": [
    "Можно сделать вывод, что большинство пользователей проезжает от 2 до 4 км. Это вполне логично, ведь на такой дистанции самокат эффективнее пешей прогулки или общественного транспорта. Идти пешком слишком долго, а общественный транспорт вероятнее всего придётся ожидать, иногда дольше, чем само время в пути. Что касается небольшого роста пользователей на дистанции в 500 метров, то это может происходить из-за обнаружения поломки самоката и прекращения поездки."
   ]
  },
  {
   "cell_type": "markdown",
   "id": "27712da3",
   "metadata": {},
   "source": [
    "#### Продолжительность поездок"
   ]
  },
  {
   "cell_type": "code",
   "execution_count": 20,
   "id": "013a4ed7",
   "metadata": {},
   "outputs": [
    {
     "data": {
      "text/plain": [
       "Text(0, 0.5, 'Количество поездок')"
      ]
     },
     "execution_count": 20,
     "metadata": {},
     "output_type": "execute_result"
    },
    {
     "data": {
      "image/png": "[encoded data removed]",
      "text/plain": [
       "<Figure size 720x360 with 1 Axes>"
      ]
     },
     "metadata": {
      "needs_background": "light"
     },
     "output_type": "display_data"
    }
   ],
   "source": [
    "rides.plot(kind='hist',y='duration',grid=True, bins=30, figsize=(10,5),title='Распределение поездок по длительности поездки')\n",
    "plt.xlabel('Длительность в минутах')\n",
    "plt.ylabel('Количество поездок')"
   ]
  },
  {
   "cell_type": "markdown",
   "id": "ac78ba19",
   "metadata": {},
   "source": [
    "Наибольшее число поездок длится до 10 до 25 минут, что вполне логично, если взглянуть на график с распределением по дистанции. Учитывая что самокаты ездят со скоростью около 20км/ч, как раз примерно около 20 минут нужно будет, чтобы преодолеть около 3км.\n",
    "Что касается поездок с длительностью меньше 5 минут, то они могут быть также, как и не графике выше, связаны с поломками/низким зарядом самоката. Длительность более 30 минут может быть обеспечена теми пользоваталями, которые арендуют самокаты не с конкретной целью, а просто \"покататься\"."
   ]
  },
  {
   "cell_type": "markdown",
   "id": "456e4f3e",
   "metadata": {},
   "source": [
    "#### Вывод:\n",
    "* Наиболее частовстречаемые города у пользователей: Пятигорск, Екатеринбург и Ростов-на-Дону, наименее встречаемые Тюмень, Омск и Москва. Однако в общем и целом, количество пользователей по городам распределено достаточно равномерно.\n",
    "* Количество пользователей без подписки превышает количество пользователей с подпиской примерно на 15 процентов.\n",
    "* Наибольшее количество пользователей находятся в возрастной категории от 20 до 30 лет. Пользователей старше 35 лет крайне мало.\n",
    "* Наиболее часто пользователи совершают поездку на дистанцию от 2 до 4 км. При этом на графике выделяются поездки от 0 до 1000 метров, предположительно причиной могут быть самокаты с низким зарядом или поломкой.\n",
    "* Наиболее часто длительность поездки составляет от 10 до 25 минут, что хорошо соотносится с наиболее частой дистанцией поездки.\n"
   ]
  },
  {
   "cell_type": "markdown",
   "id": "4ef51331",
   "metadata": {},
   "source": [
    "### Шаг 4. Объединение данных"
   ]
  },
  {
   "cell_type": "markdown",
   "id": "9424182f",
   "metadata": {},
   "source": [
    "#### Объединим данные о пользователях, поездках и подписках в один датафрейм. Для этого воспользуемся методом merge()"
   ]
  },
  {
   "cell_type": "code",
   "execution_count": 21,
   "id": "52633be7",
   "metadata": {
    "scrolled": true
   },
   "outputs": [
    {
     "data": {
      "text/html": [
       "<div>\n",
       "<style scoped>\n",
       "    .dataframe tbody tr th:only-of-type {\n",
       "        vertical-align: middle;\n",
       "    }\n",
       "\n",
       "    .dataframe tbody tr th {\n",
       "        vertical-align: top;\n",
       "    }\n",
       "\n",
       "    .dataframe thead th {\n",
       "        text-align: right;\n",
       "    }\n",
       "</style>\n",
       "<table border=\"1\" class=\"dataframe\">\n",
       "  <thead>\n",
       "    <tr style=\"text-align: right;\">\n",
       "      <th></th>\n",
       "      <th>user_id</th>\n",
       "      <th>name</th>\n",
       "      <th>age</th>\n",
       "      <th>city</th>\n",
       "      <th>subscription_type</th>\n",
       "      <th>distance</th>\n",
       "      <th>duration</th>\n",
       "      <th>date</th>\n",
       "      <th>month</th>\n",
       "      <th>minute_price</th>\n",
       "      <th>start_ride_price</th>\n",
       "      <th>subscription_fee</th>\n",
       "    </tr>\n",
       "  </thead>\n",
       "  <tbody>\n",
       "    <tr>\n",
       "      <th>0</th>\n",
       "      <td>1.0</td>\n",
       "      <td>Кира</td>\n",
       "      <td>22</td>\n",
       "      <td>Тюмень</td>\n",
       "      <td>ultra</td>\n",
       "      <td>4409.919140</td>\n",
       "      <td>25.599769</td>\n",
       "      <td>2021-01-01</td>\n",
       "      <td>1</td>\n",
       "      <td>6</td>\n",
       "      <td>0</td>\n",
       "      <td>199</td>\n",
       "    </tr>\n",
       "    <tr>\n",
       "      <th>1</th>\n",
       "      <td>1.0</td>\n",
       "      <td>Кира</td>\n",
       "      <td>22</td>\n",
       "      <td>Тюмень</td>\n",
       "      <td>ultra</td>\n",
       "      <td>2617.592153</td>\n",
       "      <td>15.816871</td>\n",
       "      <td>2021-01-18</td>\n",
       "      <td>1</td>\n",
       "      <td>6</td>\n",
       "      <td>0</td>\n",
       "      <td>199</td>\n",
       "    </tr>\n",
       "    <tr>\n",
       "      <th>2</th>\n",
       "      <td>1.0</td>\n",
       "      <td>Кира</td>\n",
       "      <td>22</td>\n",
       "      <td>Тюмень</td>\n",
       "      <td>ultra</td>\n",
       "      <td>754.159807</td>\n",
       "      <td>6.232113</td>\n",
       "      <td>2021-04-20</td>\n",
       "      <td>4</td>\n",
       "      <td>6</td>\n",
       "      <td>0</td>\n",
       "      <td>199</td>\n",
       "    </tr>\n",
       "    <tr>\n",
       "      <th>3</th>\n",
       "      <td>1.0</td>\n",
       "      <td>Кира</td>\n",
       "      <td>22</td>\n",
       "      <td>Тюмень</td>\n",
       "      <td>ultra</td>\n",
       "      <td>2694.783254</td>\n",
       "      <td>18.511000</td>\n",
       "      <td>2021-08-11</td>\n",
       "      <td>8</td>\n",
       "      <td>6</td>\n",
       "      <td>0</td>\n",
       "      <td>199</td>\n",
       "    </tr>\n",
       "    <tr>\n",
       "      <th>4</th>\n",
       "      <td>1.0</td>\n",
       "      <td>Кира</td>\n",
       "      <td>22</td>\n",
       "      <td>Тюмень</td>\n",
       "      <td>ultra</td>\n",
       "      <td>4028.687306</td>\n",
       "      <td>26.265803</td>\n",
       "      <td>2021-08-28</td>\n",
       "      <td>8</td>\n",
       "      <td>6</td>\n",
       "      <td>0</td>\n",
       "      <td>199</td>\n",
       "    </tr>\n",
       "    <tr>\n",
       "      <th>...</th>\n",
       "      <td>...</td>\n",
       "      <td>...</td>\n",
       "      <td>...</td>\n",
       "      <td>...</td>\n",
       "      <td>...</td>\n",
       "      <td>...</td>\n",
       "      <td>...</td>\n",
       "      <td>...</td>\n",
       "      <td>...</td>\n",
       "      <td>...</td>\n",
       "      <td>...</td>\n",
       "      <td>...</td>\n",
       "    </tr>\n",
       "    <tr>\n",
       "      <th>18063</th>\n",
       "      <td>1534.0</td>\n",
       "      <td>Альберт</td>\n",
       "      <td>25</td>\n",
       "      <td>Краснодар</td>\n",
       "      <td>free</td>\n",
       "      <td>3781.098080</td>\n",
       "      <td>19.822962</td>\n",
       "      <td>2021-11-04</td>\n",
       "      <td>11</td>\n",
       "      <td>8</td>\n",
       "      <td>50</td>\n",
       "      <td>0</td>\n",
       "    </tr>\n",
       "    <tr>\n",
       "      <th>18064</th>\n",
       "      <td>1534.0</td>\n",
       "      <td>Альберт</td>\n",
       "      <td>25</td>\n",
       "      <td>Краснодар</td>\n",
       "      <td>free</td>\n",
       "      <td>2840.423057</td>\n",
       "      <td>21.409799</td>\n",
       "      <td>2021-11-16</td>\n",
       "      <td>11</td>\n",
       "      <td>8</td>\n",
       "      <td>50</td>\n",
       "      <td>0</td>\n",
       "    </tr>\n",
       "    <tr>\n",
       "      <th>18065</th>\n",
       "      <td>1534.0</td>\n",
       "      <td>Альберт</td>\n",
       "      <td>25</td>\n",
       "      <td>Краснодар</td>\n",
       "      <td>free</td>\n",
       "      <td>3826.185507</td>\n",
       "      <td>18.435051</td>\n",
       "      <td>2021-11-18</td>\n",
       "      <td>11</td>\n",
       "      <td>8</td>\n",
       "      <td>50</td>\n",
       "      <td>0</td>\n",
       "    </tr>\n",
       "    <tr>\n",
       "      <th>18066</th>\n",
       "      <td>1534.0</td>\n",
       "      <td>Альберт</td>\n",
       "      <td>25</td>\n",
       "      <td>Краснодар</td>\n",
       "      <td>free</td>\n",
       "      <td>2902.308661</td>\n",
       "      <td>16.674362</td>\n",
       "      <td>2021-11-27</td>\n",
       "      <td>11</td>\n",
       "      <td>8</td>\n",
       "      <td>50</td>\n",
       "      <td>0</td>\n",
       "    </tr>\n",
       "    <tr>\n",
       "      <th>18067</th>\n",
       "      <td>1534.0</td>\n",
       "      <td>Альберт</td>\n",
       "      <td>25</td>\n",
       "      <td>Краснодар</td>\n",
       "      <td>free</td>\n",
       "      <td>2371.711192</td>\n",
       "      <td>15.893917</td>\n",
       "      <td>2021-12-29</td>\n",
       "      <td>12</td>\n",
       "      <td>8</td>\n",
       "      <td>50</td>\n",
       "      <td>0</td>\n",
       "    </tr>\n",
       "  </tbody>\n",
       "</table>\n",
       "<p>18068 rows × 12 columns</p>\n",
       "</div>"
      ],
      "text/plain": [
       "       user_id     name  age       city subscription_type     distance  \\\n",
       "0          1.0     Кира   22     Тюмень             ultra  4409.919140   \n",
       "1          1.0     Кира   22     Тюмень             ultra  2617.592153   \n",
       "2          1.0     Кира   22     Тюмень             ultra   754.159807   \n",
       "3          1.0     Кира   22     Тюмень             ultra  2694.783254   \n",
       "4          1.0     Кира   22     Тюмень             ultra  4028.687306   \n",
       "...        ...      ...  ...        ...               ...          ...   \n",
       "18063   1534.0  Альберт   25  Краснодар              free  3781.098080   \n",
       "18064   1534.0  Альберт   25  Краснодар              free  2840.423057   \n",
       "18065   1534.0  Альберт   25  Краснодар              free  3826.185507   \n",
       "18066   1534.0  Альберт   25  Краснодар              free  2902.308661   \n",
       "18067   1534.0  Альберт   25  Краснодар              free  2371.711192   \n",
       "\n",
       "        duration       date  month  minute_price  start_ride_price  \\\n",
       "0      25.599769 2021-01-01      1             6                 0   \n",
       "1      15.816871 2021-01-18      1             6                 0   \n",
       "2       6.232113 2021-04-20      4             6                 0   \n",
       "3      18.511000 2021-08-11      8             6                 0   \n",
       "4      26.265803 2021-08-28      8             6                 0   \n",
       "...          ...        ...    ...           ...               ...   \n",
       "18063  19.822962 2021-11-04     11             8                50   \n",
       "18064  21.409799 2021-11-16     11             8                50   \n",
       "18065  18.435051 2021-11-18     11             8                50   \n",
       "18066  16.674362 2021-11-27     11             8                50   \n",
       "18067  15.893917 2021-12-29     12             8                50   \n",
       "\n",
       "       subscription_fee  \n",
       "0                   199  \n",
       "1                   199  \n",
       "2                   199  \n",
       "3                   199  \n",
       "4                   199  \n",
       "...                 ...  \n",
       "18063                 0  \n",
       "18064                 0  \n",
       "18065                 0  \n",
       "18066                 0  \n",
       "18067                 0  \n",
       "\n",
       "[18068 rows x 12 columns]"
      ]
     },
     "execution_count": 21,
     "metadata": {},
     "output_type": "execute_result"
    }
   ],
   "source": [
    "users_rides_subs = users.merge(rides, on='user_id')\n",
    "users_rides_subs = users_rides_subs.merge(subs, on='subscription_type')\n",
    "users_rides_subs"
   ]
  },
  {
   "cell_type": "markdown",
   "id": "1fb925b2",
   "metadata": {},
   "source": [
    "#### Из датафрейма users_rides_subs, созданного выше, создадим ещё два датафрейма, один с пользователями без подписки, второй с пользователями с подпиской"
   ]
  },
  {
   "cell_type": "code",
   "execution_count": 22,
   "id": "ae67cb4d",
   "metadata": {
    "scrolled": true
   },
   "outputs": [
    {
     "data": {
      "text/html": [
       "<div>\n",
       "<style scoped>\n",
       "    .dataframe tbody tr th:only-of-type {\n",
       "        vertical-align: middle;\n",
       "    }\n",
       "\n",
       "    .dataframe tbody tr th {\n",
       "        vertical-align: top;\n",
       "    }\n",
       "\n",
       "    .dataframe thead th {\n",
       "        text-align: right;\n",
       "    }\n",
       "</style>\n",
       "<table border=\"1\" class=\"dataframe\">\n",
       "  <thead>\n",
       "    <tr style=\"text-align: right;\">\n",
       "      <th></th>\n",
       "      <th>user_id</th>\n",
       "      <th>name</th>\n",
       "      <th>age</th>\n",
       "      <th>city</th>\n",
       "      <th>subscription_type</th>\n",
       "      <th>distance</th>\n",
       "      <th>duration</th>\n",
       "      <th>date</th>\n",
       "      <th>month</th>\n",
       "      <th>minute_price</th>\n",
       "      <th>start_ride_price</th>\n",
       "      <th>subscription_fee</th>\n",
       "    </tr>\n",
       "  </thead>\n",
       "  <tbody>\n",
       "    <tr>\n",
       "      <th>0</th>\n",
       "      <td>1.0</td>\n",
       "      <td>Кира</td>\n",
       "      <td>22</td>\n",
       "      <td>Тюмень</td>\n",
       "      <td>ultra</td>\n",
       "      <td>4409.919140</td>\n",
       "      <td>25.599769</td>\n",
       "      <td>2021-01-01</td>\n",
       "      <td>1</td>\n",
       "      <td>6</td>\n",
       "      <td>0</td>\n",
       "      <td>199</td>\n",
       "    </tr>\n",
       "    <tr>\n",
       "      <th>1</th>\n",
       "      <td>1.0</td>\n",
       "      <td>Кира</td>\n",
       "      <td>22</td>\n",
       "      <td>Тюмень</td>\n",
       "      <td>ultra</td>\n",
       "      <td>2617.592153</td>\n",
       "      <td>15.816871</td>\n",
       "      <td>2021-01-18</td>\n",
       "      <td>1</td>\n",
       "      <td>6</td>\n",
       "      <td>0</td>\n",
       "      <td>199</td>\n",
       "    </tr>\n",
       "    <tr>\n",
       "      <th>2</th>\n",
       "      <td>1.0</td>\n",
       "      <td>Кира</td>\n",
       "      <td>22</td>\n",
       "      <td>Тюмень</td>\n",
       "      <td>ultra</td>\n",
       "      <td>754.159807</td>\n",
       "      <td>6.232113</td>\n",
       "      <td>2021-04-20</td>\n",
       "      <td>4</td>\n",
       "      <td>6</td>\n",
       "      <td>0</td>\n",
       "      <td>199</td>\n",
       "    </tr>\n",
       "    <tr>\n",
       "      <th>3</th>\n",
       "      <td>1.0</td>\n",
       "      <td>Кира</td>\n",
       "      <td>22</td>\n",
       "      <td>Тюмень</td>\n",
       "      <td>ultra</td>\n",
       "      <td>2694.783254</td>\n",
       "      <td>18.511000</td>\n",
       "      <td>2021-08-11</td>\n",
       "      <td>8</td>\n",
       "      <td>6</td>\n",
       "      <td>0</td>\n",
       "      <td>199</td>\n",
       "    </tr>\n",
       "    <tr>\n",
       "      <th>4</th>\n",
       "      <td>1.0</td>\n",
       "      <td>Кира</td>\n",
       "      <td>22</td>\n",
       "      <td>Тюмень</td>\n",
       "      <td>ultra</td>\n",
       "      <td>4028.687306</td>\n",
       "      <td>26.265803</td>\n",
       "      <td>2021-08-28</td>\n",
       "      <td>8</td>\n",
       "      <td>6</td>\n",
       "      <td>0</td>\n",
       "      <td>199</td>\n",
       "    </tr>\n",
       "    <tr>\n",
       "      <th>...</th>\n",
       "      <td>...</td>\n",
       "      <td>...</td>\n",
       "      <td>...</td>\n",
       "      <td>...</td>\n",
       "      <td>...</td>\n",
       "      <td>...</td>\n",
       "      <td>...</td>\n",
       "      <td>...</td>\n",
       "      <td>...</td>\n",
       "      <td>...</td>\n",
       "      <td>...</td>\n",
       "      <td>...</td>\n",
       "    </tr>\n",
       "    <tr>\n",
       "      <th>6495</th>\n",
       "      <td>699.0</td>\n",
       "      <td>Оксана</td>\n",
       "      <td>22</td>\n",
       "      <td>Москва</td>\n",
       "      <td>ultra</td>\n",
       "      <td>3973.046497</td>\n",
       "      <td>24.671163</td>\n",
       "      <td>2021-08-29</td>\n",
       "      <td>8</td>\n",
       "      <td>6</td>\n",
       "      <td>0</td>\n",
       "      <td>199</td>\n",
       "    </tr>\n",
       "    <tr>\n",
       "      <th>6496</th>\n",
       "      <td>699.0</td>\n",
       "      <td>Оксана</td>\n",
       "      <td>22</td>\n",
       "      <td>Москва</td>\n",
       "      <td>ultra</td>\n",
       "      <td>3288.702563</td>\n",
       "      <td>15.892886</td>\n",
       "      <td>2021-09-12</td>\n",
       "      <td>9</td>\n",
       "      <td>6</td>\n",
       "      <td>0</td>\n",
       "      <td>199</td>\n",
       "    </tr>\n",
       "    <tr>\n",
       "      <th>6497</th>\n",
       "      <td>699.0</td>\n",
       "      <td>Оксана</td>\n",
       "      <td>22</td>\n",
       "      <td>Москва</td>\n",
       "      <td>ultra</td>\n",
       "      <td>3076.159348</td>\n",
       "      <td>14.389525</td>\n",
       "      <td>2021-09-26</td>\n",
       "      <td>9</td>\n",
       "      <td>6</td>\n",
       "      <td>0</td>\n",
       "      <td>199</td>\n",
       "    </tr>\n",
       "    <tr>\n",
       "      <th>6498</th>\n",
       "      <td>699.0</td>\n",
       "      <td>Оксана</td>\n",
       "      <td>22</td>\n",
       "      <td>Москва</td>\n",
       "      <td>ultra</td>\n",
       "      <td>4707.845501</td>\n",
       "      <td>15.839579</td>\n",
       "      <td>2021-10-17</td>\n",
       "      <td>10</td>\n",
       "      <td>6</td>\n",
       "      <td>0</td>\n",
       "      <td>199</td>\n",
       "    </tr>\n",
       "    <tr>\n",
       "      <th>6499</th>\n",
       "      <td>699.0</td>\n",
       "      <td>Оксана</td>\n",
       "      <td>22</td>\n",
       "      <td>Москва</td>\n",
       "      <td>ultra</td>\n",
       "      <td>3202.890770</td>\n",
       "      <td>25.217345</td>\n",
       "      <td>2021-12-03</td>\n",
       "      <td>12</td>\n",
       "      <td>6</td>\n",
       "      <td>0</td>\n",
       "      <td>199</td>\n",
       "    </tr>\n",
       "  </tbody>\n",
       "</table>\n",
       "<p>6500 rows × 12 columns</p>\n",
       "</div>"
      ],
      "text/plain": [
       "      user_id    name  age    city subscription_type     distance   duration  \\\n",
       "0         1.0    Кира   22  Тюмень             ultra  4409.919140  25.599769   \n",
       "1         1.0    Кира   22  Тюмень             ultra  2617.592153  15.816871   \n",
       "2         1.0    Кира   22  Тюмень             ultra   754.159807   6.232113   \n",
       "3         1.0    Кира   22  Тюмень             ultra  2694.783254  18.511000   \n",
       "4         1.0    Кира   22  Тюмень             ultra  4028.687306  26.265803   \n",
       "...       ...     ...  ...     ...               ...          ...        ...   \n",
       "6495    699.0  Оксана   22  Москва             ultra  3973.046497  24.671163   \n",
       "6496    699.0  Оксана   22  Москва             ultra  3288.702563  15.892886   \n",
       "6497    699.0  Оксана   22  Москва             ultra  3076.159348  14.389525   \n",
       "6498    699.0  Оксана   22  Москва             ultra  4707.845501  15.839579   \n",
       "6499    699.0  Оксана   22  Москва             ultra  3202.890770  25.217345   \n",
       "\n",
       "           date  month  minute_price  start_ride_price  subscription_fee  \n",
       "0    2021-01-01      1             6                 0               199  \n",
       "1    2021-01-18      1             6                 0               199  \n",
       "2    2021-04-20      4             6                 0               199  \n",
       "3    2021-08-11      8             6                 0               199  \n",
       "4    2021-08-28      8             6                 0               199  \n",
       "...         ...    ...           ...               ...               ...  \n",
       "6495 2021-08-29      8             6                 0               199  \n",
       "6496 2021-09-12      9             6                 0               199  \n",
       "6497 2021-09-26      9             6                 0               199  \n",
       "6498 2021-10-17     10             6                 0               199  \n",
       "6499 2021-12-03     12             6                 0               199  \n",
       "\n",
       "[6500 rows x 12 columns]"
      ]
     },
     "metadata": {},
     "output_type": "display_data"
    },
    {
     "data": {
      "text/html": [
       "<div>\n",
       "<style scoped>\n",
       "    .dataframe tbody tr th:only-of-type {\n",
       "        vertical-align: middle;\n",
       "    }\n",
       "\n",
       "    .dataframe tbody tr th {\n",
       "        vertical-align: top;\n",
       "    }\n",
       "\n",
       "    .dataframe thead th {\n",
       "        text-align: right;\n",
       "    }\n",
       "</style>\n",
       "<table border=\"1\" class=\"dataframe\">\n",
       "  <thead>\n",
       "    <tr style=\"text-align: right;\">\n",
       "      <th></th>\n",
       "      <th>user_id</th>\n",
       "      <th>name</th>\n",
       "      <th>age</th>\n",
       "      <th>city</th>\n",
       "      <th>subscription_type</th>\n",
       "      <th>distance</th>\n",
       "      <th>duration</th>\n",
       "      <th>date</th>\n",
       "      <th>month</th>\n",
       "      <th>minute_price</th>\n",
       "      <th>start_ride_price</th>\n",
       "      <th>subscription_fee</th>\n",
       "    </tr>\n",
       "  </thead>\n",
       "  <tbody>\n",
       "    <tr>\n",
       "      <th>6500</th>\n",
       "      <td>700.0</td>\n",
       "      <td>Айдар</td>\n",
       "      <td>22</td>\n",
       "      <td>Омск</td>\n",
       "      <td>free</td>\n",
       "      <td>2515.690719</td>\n",
       "      <td>14.944286</td>\n",
       "      <td>2021-01-02</td>\n",
       "      <td>1</td>\n",
       "      <td>8</td>\n",
       "      <td>50</td>\n",
       "      <td>0</td>\n",
       "    </tr>\n",
       "    <tr>\n",
       "      <th>6501</th>\n",
       "      <td>700.0</td>\n",
       "      <td>Айдар</td>\n",
       "      <td>22</td>\n",
       "      <td>Омск</td>\n",
       "      <td>free</td>\n",
       "      <td>846.932642</td>\n",
       "      <td>16.234663</td>\n",
       "      <td>2021-02-01</td>\n",
       "      <td>2</td>\n",
       "      <td>8</td>\n",
       "      <td>50</td>\n",
       "      <td>0</td>\n",
       "    </tr>\n",
       "    <tr>\n",
       "      <th>6502</th>\n",
       "      <td>700.0</td>\n",
       "      <td>Айдар</td>\n",
       "      <td>22</td>\n",
       "      <td>Омск</td>\n",
       "      <td>free</td>\n",
       "      <td>4004.434142</td>\n",
       "      <td>20.016628</td>\n",
       "      <td>2021-02-04</td>\n",
       "      <td>2</td>\n",
       "      <td>8</td>\n",
       "      <td>50</td>\n",
       "      <td>0</td>\n",
       "    </tr>\n",
       "    <tr>\n",
       "      <th>6503</th>\n",
       "      <td>700.0</td>\n",
       "      <td>Айдар</td>\n",
       "      <td>22</td>\n",
       "      <td>Омск</td>\n",
       "      <td>free</td>\n",
       "      <td>1205.911290</td>\n",
       "      <td>9.782872</td>\n",
       "      <td>2021-02-10</td>\n",
       "      <td>2</td>\n",
       "      <td>8</td>\n",
       "      <td>50</td>\n",
       "      <td>0</td>\n",
       "    </tr>\n",
       "    <tr>\n",
       "      <th>6504</th>\n",
       "      <td>700.0</td>\n",
       "      <td>Айдар</td>\n",
       "      <td>22</td>\n",
       "      <td>Омск</td>\n",
       "      <td>free</td>\n",
       "      <td>3047.379435</td>\n",
       "      <td>17.427673</td>\n",
       "      <td>2021-02-14</td>\n",
       "      <td>2</td>\n",
       "      <td>8</td>\n",
       "      <td>50</td>\n",
       "      <td>0</td>\n",
       "    </tr>\n",
       "    <tr>\n",
       "      <th>...</th>\n",
       "      <td>...</td>\n",
       "      <td>...</td>\n",
       "      <td>...</td>\n",
       "      <td>...</td>\n",
       "      <td>...</td>\n",
       "      <td>...</td>\n",
       "      <td>...</td>\n",
       "      <td>...</td>\n",
       "      <td>...</td>\n",
       "      <td>...</td>\n",
       "      <td>...</td>\n",
       "      <td>...</td>\n",
       "    </tr>\n",
       "    <tr>\n",
       "      <th>18063</th>\n",
       "      <td>1534.0</td>\n",
       "      <td>Альберт</td>\n",
       "      <td>25</td>\n",
       "      <td>Краснодар</td>\n",
       "      <td>free</td>\n",
       "      <td>3781.098080</td>\n",
       "      <td>19.822962</td>\n",
       "      <td>2021-11-04</td>\n",
       "      <td>11</td>\n",
       "      <td>8</td>\n",
       "      <td>50</td>\n",
       "      <td>0</td>\n",
       "    </tr>\n",
       "    <tr>\n",
       "      <th>18064</th>\n",
       "      <td>1534.0</td>\n",
       "      <td>Альберт</td>\n",
       "      <td>25</td>\n",
       "      <td>Краснодар</td>\n",
       "      <td>free</td>\n",
       "      <td>2840.423057</td>\n",
       "      <td>21.409799</td>\n",
       "      <td>2021-11-16</td>\n",
       "      <td>11</td>\n",
       "      <td>8</td>\n",
       "      <td>50</td>\n",
       "      <td>0</td>\n",
       "    </tr>\n",
       "    <tr>\n",
       "      <th>18065</th>\n",
       "      <td>1534.0</td>\n",
       "      <td>Альберт</td>\n",
       "      <td>25</td>\n",
       "      <td>Краснодар</td>\n",
       "      <td>free</td>\n",
       "      <td>3826.185507</td>\n",
       "      <td>18.435051</td>\n",
       "      <td>2021-11-18</td>\n",
       "      <td>11</td>\n",
       "      <td>8</td>\n",
       "      <td>50</td>\n",
       "      <td>0</td>\n",
       "    </tr>\n",
       "    <tr>\n",
       "      <th>18066</th>\n",
       "      <td>1534.0</td>\n",
       "      <td>Альберт</td>\n",
       "      <td>25</td>\n",
       "      <td>Краснодар</td>\n",
       "      <td>free</td>\n",
       "      <td>2902.308661</td>\n",
       "      <td>16.674362</td>\n",
       "      <td>2021-11-27</td>\n",
       "      <td>11</td>\n",
       "      <td>8</td>\n",
       "      <td>50</td>\n",
       "      <td>0</td>\n",
       "    </tr>\n",
       "    <tr>\n",
       "      <th>18067</th>\n",
       "      <td>1534.0</td>\n",
       "      <td>Альберт</td>\n",
       "      <td>25</td>\n",
       "      <td>Краснодар</td>\n",
       "      <td>free</td>\n",
       "      <td>2371.711192</td>\n",
       "      <td>15.893917</td>\n",
       "      <td>2021-12-29</td>\n",
       "      <td>12</td>\n",
       "      <td>8</td>\n",
       "      <td>50</td>\n",
       "      <td>0</td>\n",
       "    </tr>\n",
       "  </tbody>\n",
       "</table>\n",
       "<p>11568 rows × 12 columns</p>\n",
       "</div>"
      ],
      "text/plain": [
       "       user_id     name  age       city subscription_type     distance  \\\n",
       "6500     700.0    Айдар   22       Омск              free  2515.690719   \n",
       "6501     700.0    Айдар   22       Омск              free   846.932642   \n",
       "6502     700.0    Айдар   22       Омск              free  4004.434142   \n",
       "6503     700.0    Айдар   22       Омск              free  1205.911290   \n",
       "6504     700.0    Айдар   22       Омск              free  3047.379435   \n",
       "...        ...      ...  ...        ...               ...          ...   \n",
       "18063   1534.0  Альберт   25  Краснодар              free  3781.098080   \n",
       "18064   1534.0  Альберт   25  Краснодар              free  2840.423057   \n",
       "18065   1534.0  Альберт   25  Краснодар              free  3826.185507   \n",
       "18066   1534.0  Альберт   25  Краснодар              free  2902.308661   \n",
       "18067   1534.0  Альберт   25  Краснодар              free  2371.711192   \n",
       "\n",
       "        duration       date  month  minute_price  start_ride_price  \\\n",
       "6500   14.944286 2021-01-02      1             8                50   \n",
       "6501   16.234663 2021-02-01      2             8                50   \n",
       "6502   20.016628 2021-02-04      2             8                50   \n",
       "6503    9.782872 2021-02-10      2             8                50   \n",
       "6504   17.427673 2021-02-14      2             8                50   \n",
       "...          ...        ...    ...           ...               ...   \n",
       "18063  19.822962 2021-11-04     11             8                50   \n",
       "18064  21.409799 2021-11-16     11             8                50   \n",
       "18065  18.435051 2021-11-18     11             8                50   \n",
       "18066  16.674362 2021-11-27     11             8                50   \n",
       "18067  15.893917 2021-12-29     12             8                50   \n",
       "\n",
       "       subscription_fee  \n",
       "6500                  0  \n",
       "6501                  0  \n",
       "6502                  0  \n",
       "6503                  0  \n",
       "6504                  0  \n",
       "...                 ...  \n",
       "18063                 0  \n",
       "18064                 0  \n",
       "18065                 0  \n",
       "18066                 0  \n",
       "18067                 0  \n",
       "\n",
       "[11568 rows x 12 columns]"
      ]
     },
     "execution_count": 22,
     "metadata": {},
     "output_type": "execute_result"
    }
   ],
   "source": [
    "ultra_users_rides = users_rides_subs.loc[users_rides_subs['subscription_type'] == 'ultra']\n",
    "free_users_rides = users_rides_subs.loc[users_rides_subs['subscription_type'] == 'free']\n",
    "display(ultra_users_rides)\n",
    "free_users_rides"
   ]
  },
  {
   "cell_type": "markdown",
   "id": "29597f94",
   "metadata": {},
   "source": [
    "#### Визуализируем информацию о расстоянии и времени поездок для пользователей обеих категорий."
   ]
  },
  {
   "cell_type": "code",
   "execution_count": 23,
   "id": "a006fc03",
   "metadata": {},
   "outputs": [
    {
     "data": {
      "text/plain": [
       "Text(0, 0.5, 'Количество поездок')"
      ]
     },
     "execution_count": 23,
     "metadata": {},
     "output_type": "execute_result"
    },
    {
     "data": {
      "image/png": "[encoded data removed]",
      "text/plain": [
       "<Figure size 720x360 with 1 Axes>"
      ]
     },
     "metadata": {
      "needs_background": "light"
     },
     "output_type": "display_data"
    }
   ],
   "source": [
    "free_users_rides.plot(kind='hist',y='distance',grid=True, bins=30, figsize=(10,5),title='Распределение поездок по дистанции одной поездки пользователей без подписки')\n",
    "plt.xlabel('Дистанция в метрах')\n",
    "plt.ylabel('Количество поездок')"
   ]
  },
  {
   "cell_type": "code",
   "execution_count": 24,
   "id": "74d1ce67",
   "metadata": {},
   "outputs": [
    {
     "data": {
      "text/plain": [
       "Text(0, 0.5, 'Количество поездок')"
      ]
     },
     "execution_count": 24,
     "metadata": {},
     "output_type": "execute_result"
    },
    {
     "data": {
      "image/png": "[encoded data removed]",
      "text/plain": [
       "<Figure size 720x360 with 1 Axes>"
      ]
     },
     "metadata": {
      "needs_background": "light"
     },
     "output_type": "display_data"
    }
   ],
   "source": [
    "free_users_rides.plot(kind='hist',y='duration',grid=True, bins=30, figsize=(10,5),title='Распределение поездок по длительности поездки пользователей без подписки')\n",
    "plt.xlabel('Длительность в минутах')\n",
    "plt.ylabel('Количество поездок')"
   ]
  },
  {
   "cell_type": "code",
   "execution_count": 25,
   "id": "10fc3ac8",
   "metadata": {},
   "outputs": [
    {
     "data": {
      "text/plain": [
       "Text(0, 0.5, 'Количество поездок')"
      ]
     },
     "execution_count": 25,
     "metadata": {},
     "output_type": "execute_result"
    },
    {
     "data": {
      "image/png": "[encoded data removed]",
      "text/plain": [
       "<Figure size 720x360 with 1 Axes>"
      ]
     },
     "metadata": {
      "needs_background": "light"
     },
     "output_type": "display_data"
    }
   ],
   "source": [
    "ultra_users_rides.plot(kind='hist',y='distance',grid=True, bins=30, figsize=(10,5),title='Распределение поездок по дистанции одной поездки пользователей с подпиской')\n",
    "plt.xlabel('Дистанция в метрах')\n",
    "plt.ylabel('Количество поездок')"
   ]
  },
  {
   "cell_type": "code",
   "execution_count": 26,
   "id": "59aa369d",
   "metadata": {},
   "outputs": [
    {
     "data": {
      "text/plain": [
       "Text(0, 0.5, 'Количество поездок')"
      ]
     },
     "execution_count": 26,
     "metadata": {},
     "output_type": "execute_result"
    },
    {
     "data": {
      "image/png": "[encoded data removed]",
      "text/plain": [
       "<Figure size 720x360 with 1 Axes>"
      ]
     },
     "metadata": {
      "needs_background": "light"
     },
     "output_type": "display_data"
    }
   ],
   "source": [
    "ultra_users_rides.plot(kind='hist',y='duration',grid=True, bins=30, figsize=(10,5),title='Распределение поездок по длительности поездки пользователей с подпиской')\n",
    "plt.xlabel('Длительность в минутах')\n",
    "plt.ylabel('Количество поездок')"
   ]
  },
  {
   "cell_type": "markdown",
   "id": "090e888d",
   "metadata": {},
   "source": [
    "На графиках мы может наблюдать ожидаемое распределение, дествительно дистанция поездок связана с длительностью поездки. Также можно сделать вывод, что данные об обеих категориях пользователей распределены очень похоже, не считая того, что пользователи с бесплатной подпиской совершают больше коротких поездок, вероятно это связано с тем, что среди пользователей без подписки больше новых пользователей, которые могли совершить короткую поездку по ряду причин, например: решили попробовать, но не понравилось, не разобрались в программе и окончили поездку, не проверили заряд батареи самоката. Также похоже, что пользователи с подпиской совершают немного больше более длительных поездок."
   ]
  },
  {
   "cell_type": "markdown",
   "id": "b3e1a70a",
   "metadata": {},
   "source": [
    "#### Вывод\n",
    "* Собрали все данные из трёх датафреймов в один.\n",
    "* Создали ещё два датафрейма с пользователями с подпиской и с пользователями без подписки.\n",
    "* Визуализировали данные о длительности и дистанции поездок пользователей с подпиской и без. Установили, что распределение достаточно похоже, однако пользователи без подписки совершают значительно больше коротких поездок."
   ]
  },
  {
   "cell_type": "markdown",
   "id": "402d620f",
   "metadata": {},
   "source": [
    "### Шаг 5. Подсчёт выручки"
   ]
  },
  {
   "cell_type": "markdown",
   "id": "794e458b",
   "metadata": {},
   "source": [
    "Найдём суммарное расстояние, количество поездок и суммарное время для каждого пользователя за каждый месяц и создадим датафрейм с агрегированными данными. Длительность поездки округлим в большую сторону."
   ]
  },
  {
   "cell_type": "code",
   "execution_count": 27,
   "id": "53049e0a",
   "metadata": {
    "scrolled": true
   },
   "outputs": [
    {
     "data": {
      "text/html": [
       "<div>\n",
       "<style scoped>\n",
       "    .dataframe tbody tr th:only-of-type {\n",
       "        vertical-align: middle;\n",
       "    }\n",
       "\n",
       "    .dataframe tbody tr th {\n",
       "        vertical-align: top;\n",
       "    }\n",
       "\n",
       "    .dataframe thead th {\n",
       "        text-align: right;\n",
       "    }\n",
       "</style>\n",
       "<table border=\"1\" class=\"dataframe\">\n",
       "  <thead>\n",
       "    <tr style=\"text-align: right;\">\n",
       "      <th></th>\n",
       "      <th></th>\n",
       "      <th>total_distance</th>\n",
       "      <th>total_duration</th>\n",
       "      <th>minute_price</th>\n",
       "      <th>rides_count</th>\n",
       "      <th>start_ride_price</th>\n",
       "      <th>subscription_fee</th>\n",
       "      <th>subscription_type</th>\n",
       "    </tr>\n",
       "    <tr>\n",
       "      <th>user_id</th>\n",
       "      <th>month</th>\n",
       "      <th></th>\n",
       "      <th></th>\n",
       "      <th></th>\n",
       "      <th></th>\n",
       "      <th></th>\n",
       "      <th></th>\n",
       "      <th></th>\n",
       "    </tr>\n",
       "  </thead>\n",
       "  <tbody>\n",
       "    <tr>\n",
       "      <th rowspan=\"5\" valign=\"top\">1.0</th>\n",
       "      <th>1</th>\n",
       "      <td>7027.511294</td>\n",
       "      <td>42.0</td>\n",
       "      <td>6</td>\n",
       "      <td>2</td>\n",
       "      <td>0</td>\n",
       "      <td>199</td>\n",
       "      <td>ultra</td>\n",
       "    </tr>\n",
       "    <tr>\n",
       "      <th>4</th>\n",
       "      <td>754.159807</td>\n",
       "      <td>7.0</td>\n",
       "      <td>6</td>\n",
       "      <td>1</td>\n",
       "      <td>0</td>\n",
       "      <td>199</td>\n",
       "      <td>ultra</td>\n",
       "    </tr>\n",
       "    <tr>\n",
       "      <th>8</th>\n",
       "      <td>6723.470560</td>\n",
       "      <td>46.0</td>\n",
       "      <td>6</td>\n",
       "      <td>2</td>\n",
       "      <td>0</td>\n",
       "      <td>199</td>\n",
       "      <td>ultra</td>\n",
       "    </tr>\n",
       "    <tr>\n",
       "      <th>10</th>\n",
       "      <td>5809.911100</td>\n",
       "      <td>32.0</td>\n",
       "      <td>6</td>\n",
       "      <td>2</td>\n",
       "      <td>0</td>\n",
       "      <td>199</td>\n",
       "      <td>ultra</td>\n",
       "    </tr>\n",
       "    <tr>\n",
       "      <th>11</th>\n",
       "      <td>7003.499363</td>\n",
       "      <td>56.0</td>\n",
       "      <td>6</td>\n",
       "      <td>3</td>\n",
       "      <td>0</td>\n",
       "      <td>199</td>\n",
       "      <td>ultra</td>\n",
       "    </tr>\n",
       "    <tr>\n",
       "      <th>...</th>\n",
       "      <th>...</th>\n",
       "      <td>...</td>\n",
       "      <td>...</td>\n",
       "      <td>...</td>\n",
       "      <td>...</td>\n",
       "      <td>...</td>\n",
       "      <td>...</td>\n",
       "      <td>...</td>\n",
       "    </tr>\n",
       "    <tr>\n",
       "      <th rowspan=\"5\" valign=\"top\">1534.0</th>\n",
       "      <th>6</th>\n",
       "      <td>3409.468534</td>\n",
       "      <td>26.0</td>\n",
       "      <td>8</td>\n",
       "      <td>2</td>\n",
       "      <td>50</td>\n",
       "      <td>0</td>\n",
       "      <td>free</td>\n",
       "    </tr>\n",
       "    <tr>\n",
       "      <th>8</th>\n",
       "      <td>7622.453034</td>\n",
       "      <td>48.0</td>\n",
       "      <td>8</td>\n",
       "      <td>2</td>\n",
       "      <td>50</td>\n",
       "      <td>0</td>\n",
       "      <td>free</td>\n",
       "    </tr>\n",
       "    <tr>\n",
       "      <th>9</th>\n",
       "      <td>4928.173852</td>\n",
       "      <td>23.0</td>\n",
       "      <td>8</td>\n",
       "      <td>1</td>\n",
       "      <td>50</td>\n",
       "      <td>0</td>\n",
       "      <td>free</td>\n",
       "    </tr>\n",
       "    <tr>\n",
       "      <th>11</th>\n",
       "      <td>13350.015305</td>\n",
       "      <td>78.0</td>\n",
       "      <td>8</td>\n",
       "      <td>4</td>\n",
       "      <td>50</td>\n",
       "      <td>0</td>\n",
       "      <td>free</td>\n",
       "    </tr>\n",
       "    <tr>\n",
       "      <th>12</th>\n",
       "      <td>2371.711192</td>\n",
       "      <td>16.0</td>\n",
       "      <td>8</td>\n",
       "      <td>1</td>\n",
       "      <td>50</td>\n",
       "      <td>0</td>\n",
       "      <td>free</td>\n",
       "    </tr>\n",
       "  </tbody>\n",
       "</table>\n",
       "<p>11331 rows × 7 columns</p>\n",
       "</div>"
      ],
      "text/plain": [
       "               total_distance  total_duration  minute_price  rides_count  \\\n",
       "user_id month                                                              \n",
       "1.0     1         7027.511294            42.0             6            2   \n",
       "        4          754.159807             7.0             6            1   \n",
       "        8         6723.470560            46.0             6            2   \n",
       "        10        5809.911100            32.0             6            2   \n",
       "        11        7003.499363            56.0             6            3   \n",
       "...                       ...             ...           ...          ...   \n",
       "1534.0  6         3409.468534            26.0             8            2   \n",
       "        8         7622.453034            48.0             8            2   \n",
       "        9         4928.173852            23.0             8            1   \n",
       "        11       13350.015305            78.0             8            4   \n",
       "        12        2371.711192            16.0             8            1   \n",
       "\n",
       "               start_ride_price  subscription_fee subscription_type  \n",
       "user_id month                                                        \n",
       "1.0     1                     0               199             ultra  \n",
       "        4                     0               199             ultra  \n",
       "        8                     0               199             ultra  \n",
       "        10                    0               199             ultra  \n",
       "        11                    0               199             ultra  \n",
       "...                         ...               ...               ...  \n",
       "1534.0  6                    50                 0              free  \n",
       "        8                    50                 0              free  \n",
       "        9                    50                 0              free  \n",
       "        11                   50                 0              free  \n",
       "        12                   50                 0              free  \n",
       "\n",
       "[11331 rows x 7 columns]"
      ]
     },
     "execution_count": 27,
     "metadata": {},
     "output_type": "execute_result"
    }
   ],
   "source": [
    "users_rides_subs['duration'] = np.ceil(users_rides_subs['duration'])\n",
    "agg_data = users_rides_subs.pivot_table(index=['user_id', 'month'], values = ['distance', 'duration', 'name', 'subscription_type', 'minute_price', 'start_ride_price', 'subscription_fee'], aggfunc={'distance':'sum', 'duration':'sum', 'name':'count', 'subscription_type': 'min', 'minute_price': 'min', 'start_ride_price': 'min', 'subscription_fee': 'min'})\n",
    "agg_data.columns = ['total_distance', 'total_duration', 'minute_price', 'rides_count', 'start_ride_price', 'subscription_fee', 'subscription_type']\n",
    "agg_data.reset_index()\n",
    "agg_data"
   ]
  },
  {
   "cell_type": "markdown",
   "id": "b15f9d77",
   "metadata": {},
   "source": [
    "В этот же датафрейм добавим столбец с помесячной выручкой, которую принёс каждый пользователь."
   ]
  },
  {
   "cell_type": "code",
   "execution_count": 28,
   "id": "2c5b80aa",
   "metadata": {},
   "outputs": [
    {
     "data": {
      "text/html": [
       "<div>\n",
       "<style scoped>\n",
       "    .dataframe tbody tr th:only-of-type {\n",
       "        vertical-align: middle;\n",
       "    }\n",
       "\n",
       "    .dataframe tbody tr th {\n",
       "        vertical-align: top;\n",
       "    }\n",
       "\n",
       "    .dataframe thead th {\n",
       "        text-align: right;\n",
       "    }\n",
       "</style>\n",
       "<table border=\"1\" class=\"dataframe\">\n",
       "  <thead>\n",
       "    <tr style=\"text-align: right;\">\n",
       "      <th></th>\n",
       "      <th></th>\n",
       "      <th>total_distance</th>\n",
       "      <th>total_duration</th>\n",
       "      <th>minute_price</th>\n",
       "      <th>rides_count</th>\n",
       "      <th>start_ride_price</th>\n",
       "      <th>subscription_fee</th>\n",
       "      <th>subscription_type</th>\n",
       "      <th>income</th>\n",
       "    </tr>\n",
       "    <tr>\n",
       "      <th>user_id</th>\n",
       "      <th>month</th>\n",
       "      <th></th>\n",
       "      <th></th>\n",
       "      <th></th>\n",
       "      <th></th>\n",
       "      <th></th>\n",
       "      <th></th>\n",
       "      <th></th>\n",
       "      <th></th>\n",
       "    </tr>\n",
       "  </thead>\n",
       "  <tbody>\n",
       "    <tr>\n",
       "      <th rowspan=\"5\" valign=\"top\">1.0</th>\n",
       "      <th>1</th>\n",
       "      <td>7027.511294</td>\n",
       "      <td>42.0</td>\n",
       "      <td>6</td>\n",
       "      <td>2</td>\n",
       "      <td>0</td>\n",
       "      <td>199</td>\n",
       "      <td>ultra</td>\n",
       "      <td>451.0</td>\n",
       "    </tr>\n",
       "    <tr>\n",
       "      <th>4</th>\n",
       "      <td>754.159807</td>\n",
       "      <td>7.0</td>\n",
       "      <td>6</td>\n",
       "      <td>1</td>\n",
       "      <td>0</td>\n",
       "      <td>199</td>\n",
       "      <td>ultra</td>\n",
       "      <td>241.0</td>\n",
       "    </tr>\n",
       "    <tr>\n",
       "      <th>8</th>\n",
       "      <td>6723.470560</td>\n",
       "      <td>46.0</td>\n",
       "      <td>6</td>\n",
       "      <td>2</td>\n",
       "      <td>0</td>\n",
       "      <td>199</td>\n",
       "      <td>ultra</td>\n",
       "      <td>475.0</td>\n",
       "    </tr>\n",
       "    <tr>\n",
       "      <th>10</th>\n",
       "      <td>5809.911100</td>\n",
       "      <td>32.0</td>\n",
       "      <td>6</td>\n",
       "      <td>2</td>\n",
       "      <td>0</td>\n",
       "      <td>199</td>\n",
       "      <td>ultra</td>\n",
       "      <td>391.0</td>\n",
       "    </tr>\n",
       "    <tr>\n",
       "      <th>11</th>\n",
       "      <td>7003.499363</td>\n",
       "      <td>56.0</td>\n",
       "      <td>6</td>\n",
       "      <td>3</td>\n",
       "      <td>0</td>\n",
       "      <td>199</td>\n",
       "      <td>ultra</td>\n",
       "      <td>535.0</td>\n",
       "    </tr>\n",
       "    <tr>\n",
       "      <th>...</th>\n",
       "      <th>...</th>\n",
       "      <td>...</td>\n",
       "      <td>...</td>\n",
       "      <td>...</td>\n",
       "      <td>...</td>\n",
       "      <td>...</td>\n",
       "      <td>...</td>\n",
       "      <td>...</td>\n",
       "      <td>...</td>\n",
       "    </tr>\n",
       "    <tr>\n",
       "      <th rowspan=\"5\" valign=\"top\">1534.0</th>\n",
       "      <th>6</th>\n",
       "      <td>3409.468534</td>\n",
       "      <td>26.0</td>\n",
       "      <td>8</td>\n",
       "      <td>2</td>\n",
       "      <td>50</td>\n",
       "      <td>0</td>\n",
       "      <td>free</td>\n",
       "      <td>308.0</td>\n",
       "    </tr>\n",
       "    <tr>\n",
       "      <th>8</th>\n",
       "      <td>7622.453034</td>\n",
       "      <td>48.0</td>\n",
       "      <td>8</td>\n",
       "      <td>2</td>\n",
       "      <td>50</td>\n",
       "      <td>0</td>\n",
       "      <td>free</td>\n",
       "      <td>484.0</td>\n",
       "    </tr>\n",
       "    <tr>\n",
       "      <th>9</th>\n",
       "      <td>4928.173852</td>\n",
       "      <td>23.0</td>\n",
       "      <td>8</td>\n",
       "      <td>1</td>\n",
       "      <td>50</td>\n",
       "      <td>0</td>\n",
       "      <td>free</td>\n",
       "      <td>234.0</td>\n",
       "    </tr>\n",
       "    <tr>\n",
       "      <th>11</th>\n",
       "      <td>13350.015305</td>\n",
       "      <td>78.0</td>\n",
       "      <td>8</td>\n",
       "      <td>4</td>\n",
       "      <td>50</td>\n",
       "      <td>0</td>\n",
       "      <td>free</td>\n",
       "      <td>824.0</td>\n",
       "    </tr>\n",
       "    <tr>\n",
       "      <th>12</th>\n",
       "      <td>2371.711192</td>\n",
       "      <td>16.0</td>\n",
       "      <td>8</td>\n",
       "      <td>1</td>\n",
       "      <td>50</td>\n",
       "      <td>0</td>\n",
       "      <td>free</td>\n",
       "      <td>178.0</td>\n",
       "    </tr>\n",
       "  </tbody>\n",
       "</table>\n",
       "<p>11331 rows × 8 columns</p>\n",
       "</div>"
      ],
      "text/plain": [
       "               total_distance  total_duration  minute_price  rides_count  \\\n",
       "user_id month                                                              \n",
       "1.0     1         7027.511294            42.0             6            2   \n",
       "        4          754.159807             7.0             6            1   \n",
       "        8         6723.470560            46.0             6            2   \n",
       "        10        5809.911100            32.0             6            2   \n",
       "        11        7003.499363            56.0             6            3   \n",
       "...                       ...             ...           ...          ...   \n",
       "1534.0  6         3409.468534            26.0             8            2   \n",
       "        8         7622.453034            48.0             8            2   \n",
       "        9         4928.173852            23.0             8            1   \n",
       "        11       13350.015305            78.0             8            4   \n",
       "        12        2371.711192            16.0             8            1   \n",
       "\n",
       "               start_ride_price  subscription_fee subscription_type  income  \n",
       "user_id month                                                                \n",
       "1.0     1                     0               199             ultra   451.0  \n",
       "        4                     0               199             ultra   241.0  \n",
       "        8                     0               199             ultra   475.0  \n",
       "        10                    0               199             ultra   391.0  \n",
       "        11                    0               199             ultra   535.0  \n",
       "...                         ...               ...               ...     ...  \n",
       "1534.0  6                    50                 0              free   308.0  \n",
       "        8                    50                 0              free   484.0  \n",
       "        9                    50                 0              free   234.0  \n",
       "        11                   50                 0              free   824.0  \n",
       "        12                   50                 0              free   178.0  \n",
       "\n",
       "[11331 rows x 8 columns]"
      ]
     },
     "execution_count": 28,
     "metadata": {},
     "output_type": "execute_result"
    }
   ],
   "source": [
    "agg_data['income'] = agg_data['start_ride_price']*agg_data['rides_count'] + agg_data['minute_price'] * agg_data['total_duration'] + agg_data['subscription_fee']\n",
    "agg_data"
   ]
  },
  {
   "cell_type": "code",
   "execution_count": 29,
   "id": "4c042d24",
   "metadata": {},
   "outputs": [
    {
     "data": {
      "text/plain": [
       "subscription_type\n",
       "free     328.641365\n",
       "ultra    362.792191\n",
       "Name: income, dtype: float64"
      ]
     },
     "execution_count": 29,
     "metadata": {},
     "output_type": "execute_result"
    }
   ],
   "source": [
    "# Код ревьюера\n",
    "agg_data.groupby('subscription_type')['income'].mean()"
   ]
  },
  {
   "cell_type": "markdown",
   "id": "41545ac0",
   "metadata": {},
   "source": [
    "### Шаг 6. Проверка гипотез"
   ]
  },
  {
   "cell_type": "markdown",
   "id": "006db56f",
   "metadata": {},
   "source": [
    "#### Первая гипотеза\n",
    "Нулевая гипотеза: средняя продолжительность поездок пользователей с подпиской равна средней продолжительности поездок пользователей без подписки.\n",
    "<p> Альтернативная гипотеза: Средняя продолжительность поездок пользователей с подпиской больше средней продолжительности поездок пользователей без подписки. </p>"
   ]
  },
  {
   "cell_type": "code",
   "execution_count": 30,
   "id": "a6de29d7",
   "metadata": {},
   "outputs": [
    {
     "name": "stdout",
     "output_type": "stream",
     "text": [
      "p-значение: 1.2804098316645618e-34\n",
      "Отвергаем нулевую гипотезу\n"
     ]
    }
   ],
   "source": [
    "alpha = 0.05 # уровень статистической значимости\n",
    "\n",
    "results = st.ttest_ind(ultra_users_rides['duration'], free_users_rides['duration'], alternative='greater')\n",
    "\n",
    "print('p-значение:', results.pvalue)\n",
    "\n",
    "if results.pvalue < alpha:\n",
    "    print('Отвергаем нулевую гипотезу')\n",
    "else:\n",
    "    print('Не получилось отвергнуть нулевую гипотезу') "
   ]
  },
  {
   "cell_type": "markdown",
   "id": "912f4cee",
   "metadata": {},
   "source": [
    "Гипотеза опровергнута, есть основания полагать, что пользователи с подпиской тратят больше времени на поездки."
   ]
  },
  {
   "cell_type": "markdown",
   "id": "7eb3b6b3",
   "metadata": {},
   "source": [
    "#### Вторая гипотеза \n",
    "<p> Нулевая гипотеза: расстояние, которое проезжают пользователи с подпиской за одну поездку, не превышает 3130 метров. </p>\n",
    "Альтернативная гипотеза: расстояние, которое проезжают пользователи с подпиской за одну поездку, превышает 3130 метров."
   ]
  },
  {
   "cell_type": "code",
   "execution_count": 31,
   "id": "23ea867b",
   "metadata": {},
   "outputs": [
    {
     "name": "stdout",
     "output_type": "stream",
     "text": [
      "p-значение: 0.9195368847849785\n",
      "Не получилось отвергнуть нулевую гипотезу\n"
     ]
    }
   ],
   "source": [
    "ideal_distance = 3130\n",
    "alpha = 0.05 # уровень статистической значимости\n",
    "\n",
    "results = st.ttest_1samp(\n",
    "    ultra_users_rides['distance'], \n",
    "    ideal_distance,\n",
    "      alternative='greater')\n",
    "\n",
    "print('p-значение:', results.pvalue)\n",
    "if results.pvalue < alpha:\n",
    "    print('Отвергаем нулевую гипотезу')\n",
    "else:\n",
    "    print('Не получилось отвергнуть нулевую гипотезу') "
   ]
  },
  {
   "cell_type": "markdown",
   "id": "9ee2e1b8",
   "metadata": {},
   "source": [
    "Не получилось опровергнуть гипотезу, похоже расстояние, которое проезжают пользователи с подпиской за одну поездку, не превышает 3130 метров."
   ]
  },
  {
   "cell_type": "markdown",
   "id": "f78e63b9",
   "metadata": {},
   "source": [
    "#### Третья гипотеза. \n",
    "Нулевая гипотеза: средняя выручка пользователей с подпиской равна средней выручке пользователей без подписки. \n",
    "<p>Альтернативная гипотеза: средняя выручка пользователей с подпиской больше  чем средняя выручка пользователей без подписки.</p>"
   ]
  },
  {
   "cell_type": "code",
   "execution_count": 32,
   "id": "d20f0e8d",
   "metadata": {},
   "outputs": [
    {
     "name": "stdout",
     "output_type": "stream",
     "text": [
      "p-значение: 1.8850394384715216e-31\n",
      "Отвергаем нулевую гипотезу\n"
     ]
    }
   ],
   "source": [
    "income_free = agg_data.loc[agg_data['subscription_type'] == 'free']\n",
    "income_ultra = agg_data.loc[agg_data['subscription_type'] == 'ultra']\n",
    "alpha = 0.05 # уровень статистической значимости\n",
    "\n",
    "results = st.ttest_ind(income_ultra['income'], income_free['income'],  alternative='greater')\n",
    "\n",
    "print('p-значение:', results.pvalue)\n",
    "if results.pvalue < alpha:\n",
    "    print('Отвергаем нулевую гипотезу')\n",
    "else:\n",
    "    print('Не получилось отвергнуть нулевую гипотезу') "
   ]
  },
  {
   "cell_type": "markdown",
   "id": "28366753",
   "metadata": {},
   "source": [
    "Гипотеза опровергнута, похоже что помесячная выручка от пользователей с подпиской по месяцам больше, чем средняя выручка от пользователей без подписки."
   ]
  },
  {
   "cell_type": "markdown",
   "id": "bf252f1c",
   "metadata": {},
   "source": [
    "#### Представьте такую ситуацию: техническая команда сервиса обновила сервера, с которыми взаимодействует мобильное приложение. Она надеется, что из-за этого количество обращений в техподдержку значимо снизилось. Некоторый файл содержит для каждого пользователя данные о количестве обращений до обновления и после него. Какой тест вам понадобился бы для проверки этой гипотезы?"
   ]
  },
  {
   "cell_type": "markdown",
   "id": "4de6d836",
   "metadata": {},
   "source": [
    "Я бы применил метод scipy.stats.ttest_rel(old_data, new_data) Это двустороння гипотеза:\n",
    "Нулевая гипотеза: После обновления сервера количество обращений в техподдержку равно количеству обращений до обновления.\n",
    "Альтернативная гипотеза: После обновления сервера количество обращений в техподдержку меньше количества обращений до обновления."
   ]
  },
  {
   "cell_type": "markdown",
   "id": "51c8d428",
   "metadata": {},
   "source": [
    "#### Вывод"
   ]
  },
  {
   "cell_type": "markdown",
   "id": "637d888b",
   "metadata": {},
   "source": [
    "Мы провели исследование данных о пользователях, поездках и подписках, в ходе исследования удалось сделать следующие выводы:\n",
    "* Собранные достаточно чистые, практически не пришлось их обрабатывать, за исключением нескольких деталей. Однако, позже было обнаружено, что есть странные данные о длительности и дистанции поездок, имеют место поездки на дистанцию свыше 4км и нулевой длительностью, возможно ошибка в системе сбора данных. Количество таких данных мало и на общее исследование не повлияло.\n",
    "* Далее были проанализированы следующие данные: 1) Частота встречаемости городов, города распределены достаточно равномерно, наиболее количество пользователей в Пятигорске, Екатеринбурге, Ростве-на-Дону, наименьшее в Тюмене, Омске и Москве. 2) Соотношение пользователей с подпиской и без подписки. Пользователей без подписки составляют около 54 процентов, в свою очередь пользователи с подпиской около 46 процентов. 3)Возраст пользоватей: наибольшее число пользователей в возрастной категории от 20 до 30 лет, пользователей старше 35 лет практически нет. 4)Расстояние, которое преодолел пользователь за одну поездку и длительность одной поездки распределены достаточно логично. Наибольшее число поездок лежит в диапозоне от 2 до 4 км, в своб очередь длительность от 10 до 25. Однако было обнаружены, что достаточно большое количество аномально коротких поездок(до 1км и до 5 минут), особенно часто такие поездки встречаются у пользователей без подписки, вероятные причины: пользователь остался недоволен самокатом, самокат имел низкий заряд батареи, самокат имел поломку, пользователь не разобрался в управлении. \n",
    "* Также была подсчитана выручка для пользователей с подпиской и без подписки, и на основе этих и других данные были проверены следующие гипотезы: 1) Средняя продолжительность поездок пользователей с подпиской равна средней продолжительности поездок пользователей без подписки — опровергнута. 2) Расстояние, которое проезжают пользователи с подпиской за одну поездку, не превышает 3130 метров — не опровергнута. 3)Средняя выручка пользователей с подпиской равна средней выручке пользователей без подписки. — опровергнута.\n",
    "<p>Подводя общий итог, можно сказать, что пользователи с подпиской являются более выгодными для компании. Гипотеза о равенстве средней продолжительности поездки была опровергнута, следовательно есть основания полагать, что пользователи с подпиской тратят больше времени на поездки. В свою очередь гипотеза о равенстве дохода от пользователей с подпиской и без, также была опровергнута, следовательно вероятнее всего пользователи с подпиской приносят больший помесячный доход. Помимо этого, пользователи с подпиской в среднем не проезжают больше идеального для эксплуатации самоката расстояния в 3130 метров. </p>"
   ]
  }
 ],
 "metadata": {
  "ExecuteTimeLog": [
   {
    "duration": 1174,
    "start_time": "2023-05-12T13:29:10.502Z"
   },
   {
    "duration": 354,
    "start_time": "2023-05-12T13:30:43.510Z"
   },
   {
    "duration": 72,
    "start_time": "2023-05-12T13:31:57.121Z"
   },
   {
    "duration": 22,
    "start_time": "2023-05-12T13:33:05.783Z"
   },
   {
    "duration": 35,
    "start_time": "2023-05-12T13:33:28.489Z"
   },
   {
    "duration": 45,
    "start_time": "2023-05-12T13:33:40.655Z"
   },
   {
    "duration": 22,
    "start_time": "2023-05-12T13:34:09.987Z"
   },
   {
    "duration": 38,
    "start_time": "2023-05-12T13:35:42.260Z"
   },
   {
    "duration": 61,
    "start_time": "2023-05-12T13:36:02.283Z"
   },
   {
    "duration": 34,
    "start_time": "2023-05-12T13:36:26.108Z"
   },
   {
    "duration": 49,
    "start_time": "2023-05-12T13:36:56.991Z"
   },
   {
    "duration": 62,
    "start_time": "2023-05-12T13:38:51.085Z"
   },
   {
    "duration": 34,
    "start_time": "2023-05-12T13:43:03.944Z"
   },
   {
    "duration": 10,
    "start_time": "2023-05-12T13:53:24.553Z"
   },
   {
    "duration": 9,
    "start_time": "2023-05-12T13:53:27.675Z"
   },
   {
    "duration": 8,
    "start_time": "2023-05-12T13:53:36.567Z"
   },
   {
    "duration": 6,
    "start_time": "2023-05-12T13:54:39.197Z"
   },
   {
    "duration": 4,
    "start_time": "2023-05-12T13:54:40.878Z"
   },
   {
    "duration": 12,
    "start_time": "2023-05-12T13:55:01.175Z"
   },
   {
    "duration": 7,
    "start_time": "2023-05-12T13:56:56.885Z"
   },
   {
    "duration": 8,
    "start_time": "2023-05-12T13:57:43.988Z"
   },
   {
    "duration": 5,
    "start_time": "2023-05-12T13:58:26.014Z"
   },
   {
    "duration": 4,
    "start_time": "2023-05-12T13:58:36.917Z"
   },
   {
    "duration": 13,
    "start_time": "2023-05-12T14:00:32.495Z"
   },
   {
    "duration": 5,
    "start_time": "2023-05-12T14:01:35.694Z"
   },
   {
    "duration": 99,
    "start_time": "2023-05-12T14:01:46.035Z"
   },
   {
    "duration": 9,
    "start_time": "2023-05-12T14:01:49.423Z"
   },
   {
    "duration": 6,
    "start_time": "2023-05-12T14:07:25.604Z"
   },
   {
    "duration": 5,
    "start_time": "2023-05-12T14:08:21.407Z"
   },
   {
    "duration": 2145,
    "start_time": "2023-05-12T14:17:44.986Z"
   },
   {
    "duration": 8,
    "start_time": "2023-05-12T14:17:55.055Z"
   },
   {
    "duration": 29,
    "start_time": "2023-05-12T14:18:00.086Z"
   },
   {
    "duration": 27,
    "start_time": "2023-05-12T14:18:17.538Z"
   },
   {
    "duration": 37,
    "start_time": "2023-05-12T14:19:34.250Z"
   },
   {
    "duration": 114,
    "start_time": "2023-05-12T14:20:35.854Z"
   },
   {
    "duration": 33,
    "start_time": "2023-05-12T14:20:43.823Z"
   },
   {
    "duration": 44,
    "start_time": "2023-05-12T14:21:31.387Z"
   },
   {
    "duration": 110,
    "start_time": "2023-05-12T14:21:37.734Z"
   },
   {
    "duration": 27,
    "start_time": "2023-05-12T14:21:41.820Z"
   },
   {
    "duration": 6,
    "start_time": "2023-05-12T14:24:44.147Z"
   },
   {
    "duration": 12,
    "start_time": "2023-05-12T14:24:48.756Z"
   },
   {
    "duration": 8,
    "start_time": "2023-05-12T14:26:59.293Z"
   },
   {
    "duration": 9,
    "start_time": "2023-05-12T14:27:04.377Z"
   },
   {
    "duration": 20,
    "start_time": "2023-05-12T14:55:39.214Z"
   },
   {
    "duration": 165,
    "start_time": "2023-05-12T14:58:54.738Z"
   },
   {
    "duration": 297,
    "start_time": "2023-05-12T14:59:11.190Z"
   },
   {
    "duration": 170,
    "start_time": "2023-05-12T14:59:15.005Z"
   },
   {
    "duration": 10,
    "start_time": "2023-05-12T15:05:56.933Z"
   },
   {
    "duration": 145,
    "start_time": "2023-05-12T15:06:43.633Z"
   },
   {
    "duration": 277,
    "start_time": "2023-05-12T15:06:47.612Z"
   },
   {
    "duration": 211,
    "start_time": "2023-05-12T15:08:52.933Z"
   },
   {
    "duration": 175,
    "start_time": "2023-05-12T15:09:12.805Z"
   },
   {
    "duration": 152,
    "start_time": "2023-05-12T15:10:16.741Z"
   },
   {
    "duration": 138,
    "start_time": "2023-05-12T15:20:17.152Z"
   },
   {
    "duration": 475,
    "start_time": "2023-05-12T15:20:43.321Z"
   },
   {
    "duration": 146,
    "start_time": "2023-05-12T15:20:47.355Z"
   },
   {
    "duration": 138,
    "start_time": "2023-05-12T15:20:50.481Z"
   },
   {
    "duration": 143,
    "start_time": "2023-05-12T15:20:55.293Z"
   },
   {
    "duration": 149,
    "start_time": "2023-05-12T15:26:21.589Z"
   },
   {
    "duration": 157,
    "start_time": "2023-05-12T15:27:17.292Z"
   },
   {
    "duration": 8,
    "start_time": "2023-05-12T15:29:31.256Z"
   },
   {
    "duration": 586,
    "start_time": "2023-05-12T15:29:36.889Z"
   },
   {
    "duration": 116,
    "start_time": "2023-05-12T15:29:40.932Z"
   },
   {
    "duration": 73,
    "start_time": "2023-05-12T15:29:57.982Z"
   },
   {
    "duration": 113,
    "start_time": "2023-05-12T15:32:12.898Z"
   },
   {
    "duration": 14,
    "start_time": "2023-05-12T15:32:17.990Z"
   },
   {
    "duration": 13,
    "start_time": "2023-05-12T15:32:22.510Z"
   },
   {
    "duration": 112,
    "start_time": "2023-05-12T15:32:25.617Z"
   },
   {
    "duration": 146,
    "start_time": "2023-05-12T15:32:50.193Z"
   },
   {
    "duration": 415,
    "start_time": "2023-05-12T15:41:15.002Z"
   },
   {
    "duration": 9,
    "start_time": "2023-05-12T15:44:18.609Z"
   },
   {
    "duration": 160,
    "start_time": "2023-05-12T15:44:22.502Z"
   },
   {
    "duration": 117,
    "start_time": "2023-05-12T15:44:33.295Z"
   },
   {
    "duration": 165,
    "start_time": "2023-05-12T15:47:44.637Z"
   },
   {
    "duration": 157,
    "start_time": "2023-05-12T15:48:03.914Z"
   },
   {
    "duration": 165,
    "start_time": "2023-05-12T15:48:07.505Z"
   },
   {
    "duration": 254,
    "start_time": "2023-05-12T15:48:35.927Z"
   },
   {
    "duration": 356,
    "start_time": "2023-05-12T15:50:47.178Z"
   },
   {
    "duration": 318,
    "start_time": "2023-05-12T15:50:59.017Z"
   },
   {
    "duration": 365,
    "start_time": "2023-05-12T15:51:06.894Z"
   },
   {
    "duration": 309,
    "start_time": "2023-05-12T15:51:29.718Z"
   },
   {
    "duration": 169,
    "start_time": "2023-05-12T15:51:47.834Z"
   },
   {
    "duration": 341,
    "start_time": "2023-05-12T15:51:55.378Z"
   },
   {
    "duration": 14,
    "start_time": "2023-05-12T15:52:04.218Z"
   },
   {
    "duration": 305,
    "start_time": "2023-05-12T15:52:10.689Z"
   },
   {
    "duration": 326,
    "start_time": "2023-05-12T15:54:11.097Z"
   },
   {
    "duration": 293,
    "start_time": "2023-05-12T15:54:21.355Z"
   },
   {
    "duration": 73,
    "start_time": "2023-05-12T15:55:11.929Z"
   },
   {
    "duration": 190,
    "start_time": "2023-05-12T15:55:18.141Z"
   },
   {
    "duration": 168,
    "start_time": "2023-05-12T15:55:23.384Z"
   },
   {
    "duration": 162,
    "start_time": "2023-05-12T15:55:27.615Z"
   },
   {
    "duration": 175,
    "start_time": "2023-05-12T15:55:30.442Z"
   },
   {
    "duration": 178,
    "start_time": "2023-05-12T15:55:33.134Z"
   },
   {
    "duration": 311,
    "start_time": "2023-05-12T15:55:36.632Z"
   },
   {
    "duration": 185,
    "start_time": "2023-05-12T15:55:39.943Z"
   },
   {
    "duration": 172,
    "start_time": "2023-05-12T15:55:53.606Z"
   },
   {
    "duration": 191,
    "start_time": "2023-05-12T15:56:07.198Z"
   },
   {
    "duration": 168,
    "start_time": "2023-05-12T15:56:34.212Z"
   },
   {
    "duration": 167,
    "start_time": "2023-05-12T15:56:37.660Z"
   },
   {
    "duration": 170,
    "start_time": "2023-05-12T15:58:07.094Z"
   },
   {
    "duration": 172,
    "start_time": "2023-05-12T16:00:57.058Z"
   },
   {
    "duration": 148,
    "start_time": "2023-05-12T16:01:51.090Z"
   },
   {
    "duration": 137,
    "start_time": "2023-05-12T16:02:02.304Z"
   },
   {
    "duration": 187,
    "start_time": "2023-05-12T16:02:05.056Z"
   },
   {
    "duration": 5,
    "start_time": "2023-05-12T16:02:57.527Z"
   },
   {
    "duration": 179,
    "start_time": "2023-05-12T16:03:00.915Z"
   },
   {
    "duration": 170,
    "start_time": "2023-05-12T16:03:28.647Z"
   },
   {
    "duration": 194,
    "start_time": "2023-05-12T16:06:43.910Z"
   },
   {
    "duration": 181,
    "start_time": "2023-05-12T16:08:29.141Z"
   },
   {
    "duration": 2573,
    "start_time": "2023-05-12T16:08:37.247Z"
   },
   {
    "duration": 182,
    "start_time": "2023-05-12T16:08:49.286Z"
   },
   {
    "duration": 79,
    "start_time": "2023-05-12T16:08:58.805Z"
   },
   {
    "duration": 80,
    "start_time": "2023-05-12T16:09:02.520Z"
   },
   {
    "duration": 170,
    "start_time": "2023-05-12T16:09:04.896Z"
   },
   {
    "duration": 197,
    "start_time": "2023-05-12T16:11:24.178Z"
   },
   {
    "duration": 7,
    "start_time": "2023-05-12T16:17:37.712Z"
   },
   {
    "duration": 108,
    "start_time": "2023-05-12T16:18:25.447Z"
   },
   {
    "duration": 141,
    "start_time": "2023-05-12T16:19:02.753Z"
   },
   {
    "duration": 105,
    "start_time": "2023-05-12T16:19:09.073Z"
   },
   {
    "duration": 336,
    "start_time": "2023-05-12T16:19:17.282Z"
   },
   {
    "duration": 2,
    "start_time": "2023-05-12T16:21:48.717Z"
   },
   {
    "duration": 122,
    "start_time": "2023-05-12T16:22:59.996Z"
   },
   {
    "duration": 226,
    "start_time": "2023-05-12T16:23:30.741Z"
   },
   {
    "duration": 215,
    "start_time": "2023-05-12T16:23:57.823Z"
   },
   {
    "duration": 235,
    "start_time": "2023-05-12T16:24:35.922Z"
   },
   {
    "duration": 42,
    "start_time": "2023-05-13T18:24:21.930Z"
   },
   {
    "duration": 1113,
    "start_time": "2023-05-13T18:24:44.858Z"
   },
   {
    "duration": 203,
    "start_time": "2023-05-13T18:24:45.974Z"
   },
   {
    "duration": 29,
    "start_time": "2023-05-13T18:24:46.178Z"
   },
   {
    "duration": 35,
    "start_time": "2023-05-13T18:24:46.209Z"
   },
   {
    "duration": 19,
    "start_time": "2023-05-13T18:24:46.245Z"
   },
   {
    "duration": 4,
    "start_time": "2023-05-13T18:24:46.266Z"
   },
   {
    "duration": 7,
    "start_time": "2023-05-13T18:24:46.272Z"
   },
   {
    "duration": 33,
    "start_time": "2023-05-13T18:24:46.280Z"
   },
   {
    "duration": 4,
    "start_time": "2023-05-13T18:24:46.315Z"
   },
   {
    "duration": 19,
    "start_time": "2023-05-13T18:24:46.320Z"
   },
   {
    "duration": 9,
    "start_time": "2023-05-13T18:24:46.340Z"
   },
   {
    "duration": 6,
    "start_time": "2023-05-13T18:24:46.350Z"
   },
   {
    "duration": 177,
    "start_time": "2023-05-13T18:24:46.357Z"
   },
   {
    "duration": 110,
    "start_time": "2023-05-13T18:24:46.536Z"
   },
   {
    "duration": 184,
    "start_time": "2023-05-13T18:24:46.648Z"
   },
   {
    "duration": 183,
    "start_time": "2023-05-13T18:25:00.418Z"
   },
   {
    "duration": 205,
    "start_time": "2023-05-13T18:25:27.487Z"
   },
   {
    "duration": 193,
    "start_time": "2023-05-13T18:25:47.740Z"
   },
   {
    "duration": 230,
    "start_time": "2023-05-13T18:33:19.549Z"
   },
   {
    "duration": 259,
    "start_time": "2023-05-13T18:33:56.895Z"
   },
   {
    "duration": 186,
    "start_time": "2023-05-13T18:41:40.352Z"
   },
   {
    "duration": 215,
    "start_time": "2023-05-13T18:41:52.651Z"
   },
   {
    "duration": 55,
    "start_time": "2023-05-13T18:45:14.150Z"
   },
   {
    "duration": 13,
    "start_time": "2023-05-13T18:46:14.991Z"
   },
   {
    "duration": 14,
    "start_time": "2023-05-13T18:46:26.641Z"
   },
   {
    "duration": 41,
    "start_time": "2023-05-13T18:47:04.922Z"
   },
   {
    "duration": 13,
    "start_time": "2023-05-13T18:47:12.696Z"
   },
   {
    "duration": 8,
    "start_time": "2023-05-13T18:47:40.737Z"
   },
   {
    "duration": 5,
    "start_time": "2023-05-13T18:48:06.704Z"
   },
   {
    "duration": 5,
    "start_time": "2023-05-13T18:48:52.165Z"
   },
   {
    "duration": 63,
    "start_time": "2023-05-13T18:51:28.692Z"
   },
   {
    "duration": 43,
    "start_time": "2023-05-13T18:51:34.735Z"
   },
   {
    "duration": 5,
    "start_time": "2023-05-13T18:51:40.871Z"
   },
   {
    "duration": 6,
    "start_time": "2023-05-13T18:51:52.720Z"
   },
   {
    "duration": 6,
    "start_time": "2023-05-13T18:51:56.504Z"
   },
   {
    "duration": 6,
    "start_time": "2023-05-13T18:51:59.803Z"
   },
   {
    "duration": 6,
    "start_time": "2023-05-13T18:52:07.698Z"
   },
   {
    "duration": 5,
    "start_time": "2023-05-13T18:52:45.339Z"
   },
   {
    "duration": 5,
    "start_time": "2023-05-13T19:09:30.990Z"
   },
   {
    "duration": 3,
    "start_time": "2023-05-13T19:09:44.665Z"
   },
   {
    "duration": 5,
    "start_time": "2023-05-13T19:09:52.106Z"
   },
   {
    "duration": 4,
    "start_time": "2023-05-13T19:09:57.129Z"
   },
   {
    "duration": 4,
    "start_time": "2023-05-13T19:10:03.978Z"
   },
   {
    "duration": 1084,
    "start_time": "2023-05-13T19:10:55.878Z"
   },
   {
    "duration": 57,
    "start_time": "2023-05-13T19:10:56.964Z"
   },
   {
    "duration": 29,
    "start_time": "2023-05-13T19:10:57.023Z"
   },
   {
    "duration": 35,
    "start_time": "2023-05-13T19:10:57.054Z"
   },
   {
    "duration": 34,
    "start_time": "2023-05-13T19:10:57.091Z"
   },
   {
    "duration": 5,
    "start_time": "2023-05-13T19:10:57.126Z"
   },
   {
    "duration": 5,
    "start_time": "2023-05-13T19:10:57.133Z"
   },
   {
    "duration": 7,
    "start_time": "2023-05-13T19:10:57.139Z"
   },
   {
    "duration": 3,
    "start_time": "2023-05-13T19:10:57.148Z"
   },
   {
    "duration": 52,
    "start_time": "2023-05-13T19:10:57.153Z"
   },
   {
    "duration": 9,
    "start_time": "2023-05-13T19:10:57.207Z"
   },
   {
    "duration": 7,
    "start_time": "2023-05-13T19:10:57.218Z"
   },
   {
    "duration": 2,
    "start_time": "2023-05-13T19:12:18.332Z"
   },
   {
    "duration": 56,
    "start_time": "2023-05-13T19:12:18.336Z"
   },
   {
    "duration": 23,
    "start_time": "2023-05-13T19:12:18.394Z"
   },
   {
    "duration": 31,
    "start_time": "2023-05-13T19:12:18.418Z"
   },
   {
    "duration": 18,
    "start_time": "2023-05-13T19:12:18.451Z"
   },
   {
    "duration": 5,
    "start_time": "2023-05-13T19:12:18.470Z"
   },
   {
    "duration": 33,
    "start_time": "2023-05-13T19:12:18.476Z"
   },
   {
    "duration": 7,
    "start_time": "2023-05-13T19:12:18.511Z"
   },
   {
    "duration": 3,
    "start_time": "2023-05-13T19:12:18.520Z"
   },
   {
    "duration": 17,
    "start_time": "2023-05-13T19:12:18.524Z"
   },
   {
    "duration": 8,
    "start_time": "2023-05-13T19:12:18.543Z"
   },
   {
    "duration": 6,
    "start_time": "2023-05-13T19:12:18.553Z"
   },
   {
    "duration": 177,
    "start_time": "2023-05-13T19:12:18.561Z"
   },
   {
    "duration": 109,
    "start_time": "2023-05-13T19:12:18.740Z"
   },
   {
    "duration": 6,
    "start_time": "2023-05-13T19:12:18.850Z"
   },
   {
    "duration": 188,
    "start_time": "2023-05-13T19:12:18.857Z"
   },
   {
    "duration": 192,
    "start_time": "2023-05-13T19:12:19.046Z"
   },
   {
    "duration": 194,
    "start_time": "2023-05-13T19:12:19.240Z"
   },
   {
    "duration": 3,
    "start_time": "2023-05-13T19:12:19.436Z"
   },
   {
    "duration": 5,
    "start_time": "2023-05-13T19:12:44.855Z"
   },
   {
    "duration": 9,
    "start_time": "2023-05-13T19:14:10.092Z"
   },
   {
    "duration": 24,
    "start_time": "2023-05-13T19:16:45.855Z"
   },
   {
    "duration": 33,
    "start_time": "2023-05-13T19:19:23.653Z"
   },
   {
    "duration": 35,
    "start_time": "2023-05-13T19:23:06.049Z"
   },
   {
    "duration": 179,
    "start_time": "2023-05-13T19:27:24.072Z"
   },
   {
    "duration": 192,
    "start_time": "2023-05-13T19:27:50.765Z"
   },
   {
    "duration": 241,
    "start_time": "2023-05-13T19:28:20.441Z"
   },
   {
    "duration": 179,
    "start_time": "2023-05-13T19:28:54.760Z"
   },
   {
    "duration": 157,
    "start_time": "2023-05-13T19:29:59.775Z"
   },
   {
    "duration": 200,
    "start_time": "2023-05-13T19:30:47.933Z"
   },
   {
    "duration": 169,
    "start_time": "2023-05-13T19:30:51.463Z"
   },
   {
    "duration": 174,
    "start_time": "2023-05-13T19:30:57.303Z"
   },
   {
    "duration": 175,
    "start_time": "2023-05-13T19:32:08.632Z"
   },
   {
    "duration": 208,
    "start_time": "2023-05-13T19:33:00.549Z"
   },
   {
    "duration": 198,
    "start_time": "2023-05-13T19:34:16.907Z"
   },
   {
    "duration": 175,
    "start_time": "2023-05-13T19:34:18.577Z"
   },
   {
    "duration": 1004,
    "start_time": "2023-05-13T19:35:30.856Z"
   },
   {
    "duration": 56,
    "start_time": "2023-05-13T19:35:31.862Z"
   },
   {
    "duration": 27,
    "start_time": "2023-05-13T19:35:31.920Z"
   },
   {
    "duration": 34,
    "start_time": "2023-05-13T19:35:31.948Z"
   },
   {
    "duration": 33,
    "start_time": "2023-05-13T19:35:31.984Z"
   },
   {
    "duration": 4,
    "start_time": "2023-05-13T19:35:32.019Z"
   },
   {
    "duration": 6,
    "start_time": "2023-05-13T19:35:32.024Z"
   },
   {
    "duration": 11,
    "start_time": "2023-05-13T19:35:32.032Z"
   },
   {
    "duration": 4,
    "start_time": "2023-05-13T19:35:32.044Z"
   },
   {
    "duration": 20,
    "start_time": "2023-05-13T19:35:32.049Z"
   },
   {
    "duration": 15,
    "start_time": "2023-05-13T19:35:32.070Z"
   },
   {
    "duration": 8,
    "start_time": "2023-05-13T19:35:32.105Z"
   },
   {
    "duration": 150,
    "start_time": "2023-05-13T19:35:32.114Z"
   },
   {
    "duration": 103,
    "start_time": "2023-05-13T19:35:32.266Z"
   },
   {
    "duration": 5,
    "start_time": "2023-05-13T19:35:32.371Z"
   },
   {
    "duration": 206,
    "start_time": "2023-05-13T19:35:32.378Z"
   },
   {
    "duration": 193,
    "start_time": "2023-05-13T19:35:32.586Z"
   },
   {
    "duration": 194,
    "start_time": "2023-05-13T19:35:32.780Z"
   },
   {
    "duration": 35,
    "start_time": "2023-05-13T19:35:32.976Z"
   },
   {
    "duration": 34,
    "start_time": "2023-05-13T19:35:33.013Z"
   },
   {
    "duration": 208,
    "start_time": "2023-05-13T19:35:33.049Z"
   },
   {
    "duration": 187,
    "start_time": "2023-05-13T19:35:33.258Z"
   },
   {
    "duration": 15,
    "start_time": "2023-05-13T19:37:32.033Z"
   },
   {
    "duration": 7,
    "start_time": "2023-05-13T19:37:38.398Z"
   },
   {
    "duration": 11,
    "start_time": "2023-05-13T19:37:49.168Z"
   },
   {
    "duration": 18,
    "start_time": "2023-05-13T19:37:55.599Z"
   },
   {
    "duration": 8,
    "start_time": "2023-05-13T19:38:31.445Z"
   },
   {
    "duration": 18,
    "start_time": "2023-05-13T19:38:44.774Z"
   },
   {
    "duration": 264,
    "start_time": "2023-05-13T19:39:55.691Z"
   },
   {
    "duration": 68,
    "start_time": "2023-05-14T19:08:28.495Z"
   },
   {
    "duration": 6,
    "start_time": "2023-05-14T19:08:49.084Z"
   },
   {
    "duration": 1584,
    "start_time": "2023-05-14T19:08:55.191Z"
   },
   {
    "duration": 423,
    "start_time": "2023-05-14T19:08:56.781Z"
   },
   {
    "duration": 71,
    "start_time": "2023-05-14T19:08:57.206Z"
   },
   {
    "duration": 52,
    "start_time": "2023-05-14T19:08:57.281Z"
   },
   {
    "duration": 45,
    "start_time": "2023-05-14T19:08:57.335Z"
   },
   {
    "duration": 7,
    "start_time": "2023-05-14T19:08:57.382Z"
   },
   {
    "duration": 8,
    "start_time": "2023-05-14T19:08:57.390Z"
   },
   {
    "duration": 9,
    "start_time": "2023-05-14T19:08:57.400Z"
   },
   {
    "duration": 4,
    "start_time": "2023-05-14T19:08:57.410Z"
   },
   {
    "duration": 56,
    "start_time": "2023-05-14T19:08:57.434Z"
   },
   {
    "duration": 9,
    "start_time": "2023-05-14T19:08:57.492Z"
   },
   {
    "duration": 8,
    "start_time": "2023-05-14T19:08:57.503Z"
   },
   {
    "duration": 243,
    "start_time": "2023-05-14T19:08:57.512Z"
   },
   {
    "duration": 135,
    "start_time": "2023-05-14T19:08:57.757Z"
   },
   {
    "duration": 8,
    "start_time": "2023-05-14T19:08:57.894Z"
   },
   {
    "duration": 297,
    "start_time": "2023-05-14T19:08:57.906Z"
   },
   {
    "duration": 291,
    "start_time": "2023-05-14T19:08:58.205Z"
   },
   {
    "duration": 362,
    "start_time": "2023-05-14T19:08:58.498Z"
   },
   {
    "duration": 38,
    "start_time": "2023-05-14T19:08:58.862Z"
   },
   {
    "duration": 69,
    "start_time": "2023-05-14T19:08:58.901Z"
   },
   {
    "duration": 262,
    "start_time": "2023-05-14T19:08:58.971Z"
   },
   {
    "duration": 355,
    "start_time": "2023-05-14T19:08:59.234Z"
   },
   {
    "duration": 1157,
    "start_time": "2023-05-14T19:08:59.591Z"
   },
   {
    "duration": 1230,
    "start_time": "2023-05-14T19:09:47.853Z"
   },
   {
    "duration": 2360,
    "start_time": "2023-05-14T19:16:32.086Z"
   },
   {
    "duration": 1649,
    "start_time": "2023-05-14T19:17:20.766Z"
   },
   {
    "duration": 2455,
    "start_time": "2023-05-14T19:17:39.553Z"
   },
   {
    "duration": 997,
    "start_time": "2023-05-14T19:21:11.873Z"
   },
   {
    "duration": 119,
    "start_time": "2023-05-14T19:21:59.569Z"
   },
   {
    "duration": 1706,
    "start_time": "2023-05-14T19:22:03.772Z"
   },
   {
    "duration": 1367,
    "start_time": "2023-05-14T19:22:35.865Z"
   },
   {
    "duration": 79,
    "start_time": "2023-05-14T19:22:37.234Z"
   },
   {
    "duration": 52,
    "start_time": "2023-05-14T19:22:37.314Z"
   },
   {
    "duration": 61,
    "start_time": "2023-05-14T19:22:37.368Z"
   },
   {
    "duration": 33,
    "start_time": "2023-05-14T19:22:37.431Z"
   },
   {
    "duration": 15,
    "start_time": "2023-05-14T19:22:37.466Z"
   },
   {
    "duration": 7,
    "start_time": "2023-05-14T19:22:37.483Z"
   },
   {
    "duration": 13,
    "start_time": "2023-05-14T19:22:37.492Z"
   },
   {
    "duration": 23,
    "start_time": "2023-05-14T19:22:37.507Z"
   },
   {
    "duration": 60,
    "start_time": "2023-05-14T19:22:37.533Z"
   },
   {
    "duration": 8,
    "start_time": "2023-05-14T19:22:37.595Z"
   },
   {
    "duration": 11,
    "start_time": "2023-05-14T19:22:37.605Z"
   },
   {
    "duration": 272,
    "start_time": "2023-05-14T19:22:37.624Z"
   },
   {
    "duration": 144,
    "start_time": "2023-05-14T19:22:37.898Z"
   },
   {
    "duration": 10,
    "start_time": "2023-05-14T19:22:38.045Z"
   },
   {
    "duration": 267,
    "start_time": "2023-05-14T19:22:38.059Z"
   },
   {
    "duration": 267,
    "start_time": "2023-05-14T19:22:38.328Z"
   },
   {
    "duration": 334,
    "start_time": "2023-05-14T19:22:38.597Z"
   },
   {
    "duration": 45,
    "start_time": "2023-05-14T19:22:38.932Z"
   },
   {
    "duration": 58,
    "start_time": "2023-05-14T19:22:38.979Z"
   },
   {
    "duration": 297,
    "start_time": "2023-05-14T19:22:39.039Z"
   },
   {
    "duration": 277,
    "start_time": "2023-05-14T19:22:39.338Z"
   },
   {
    "duration": 1776,
    "start_time": "2023-05-14T19:22:39.617Z"
   },
   {
    "duration": 1520,
    "start_time": "2023-05-14T19:23:16.281Z"
   },
   {
    "duration": 1677,
    "start_time": "2023-05-14T19:23:23.366Z"
   },
   {
    "duration": 1109,
    "start_time": "2023-05-14T19:24:18.062Z"
   },
   {
    "duration": 1194,
    "start_time": "2023-05-14T19:24:37.341Z"
   },
   {
    "duration": 1296,
    "start_time": "2023-05-14T19:24:50.874Z"
   },
   {
    "duration": 88,
    "start_time": "2023-05-14T19:24:52.173Z"
   },
   {
    "duration": 34,
    "start_time": "2023-05-14T19:24:52.263Z"
   },
   {
    "duration": 54,
    "start_time": "2023-05-14T19:24:52.299Z"
   },
   {
    "duration": 48,
    "start_time": "2023-05-14T19:24:52.354Z"
   },
   {
    "duration": 8,
    "start_time": "2023-05-14T19:24:52.404Z"
   },
   {
    "duration": 62,
    "start_time": "2023-05-14T19:24:52.413Z"
   },
   {
    "duration": 29,
    "start_time": "2023-05-14T19:24:52.477Z"
   },
   {
    "duration": 58,
    "start_time": "2023-05-14T19:24:52.507Z"
   },
   {
    "duration": 56,
    "start_time": "2023-05-14T19:24:52.568Z"
   },
   {
    "duration": 29,
    "start_time": "2023-05-14T19:24:52.625Z"
   },
   {
    "duration": 32,
    "start_time": "2023-05-14T19:24:52.656Z"
   },
   {
    "duration": 218,
    "start_time": "2023-05-14T19:24:52.690Z"
   },
   {
    "duration": 157,
    "start_time": "2023-05-14T19:24:52.909Z"
   },
   {
    "duration": 6,
    "start_time": "2023-05-14T19:24:53.068Z"
   },
   {
    "duration": 276,
    "start_time": "2023-05-14T19:24:53.077Z"
   },
   {
    "duration": 257,
    "start_time": "2023-05-14T19:24:53.354Z"
   },
   {
    "duration": 287,
    "start_time": "2023-05-14T19:24:53.613Z"
   },
   {
    "duration": 49,
    "start_time": "2023-05-14T19:24:53.902Z"
   },
   {
    "duration": 41,
    "start_time": "2023-05-14T19:24:53.953Z"
   },
   {
    "duration": 323,
    "start_time": "2023-05-14T19:24:53.996Z"
   },
   {
    "duration": 300,
    "start_time": "2023-05-14T19:24:54.324Z"
   },
   {
    "duration": 1107,
    "start_time": "2023-05-14T19:25:32.173Z"
   },
   {
    "duration": 1080,
    "start_time": "2023-05-14T19:28:05.745Z"
   },
   {
    "duration": 1196,
    "start_time": "2023-05-14T19:28:26.106Z"
   },
   {
    "duration": 1632,
    "start_time": "2023-05-14T19:29:10.804Z"
   },
   {
    "duration": 1166,
    "start_time": "2023-05-14T19:29:31.891Z"
   },
   {
    "duration": 1084,
    "start_time": "2023-05-14T19:30:47.198Z"
   },
   {
    "duration": 1098,
    "start_time": "2023-05-14T19:33:52.445Z"
   },
   {
    "duration": 42,
    "start_time": "2023-05-14T19:38:45.602Z"
   },
   {
    "duration": 27,
    "start_time": "2023-05-14T19:41:29.410Z"
   },
   {
    "duration": 20,
    "start_time": "2023-05-14T19:41:43.680Z"
   },
   {
    "duration": 3,
    "start_time": "2023-05-14T19:50:12.976Z"
   },
   {
    "duration": 5,
    "start_time": "2023-05-14T19:52:43.839Z"
   },
   {
    "duration": 5,
    "start_time": "2023-05-14T19:53:50.404Z"
   },
   {
    "duration": 5,
    "start_time": "2023-05-14T19:54:33.659Z"
   },
   {
    "duration": 5,
    "start_time": "2023-05-14T19:56:04.080Z"
   },
   {
    "duration": 11,
    "start_time": "2023-05-14T19:58:52.249Z"
   },
   {
    "duration": 6,
    "start_time": "2023-05-14T19:59:53.148Z"
   },
   {
    "duration": 6,
    "start_time": "2023-05-14T20:03:52.261Z"
   },
   {
    "duration": 22,
    "start_time": "2023-05-14T20:07:21.565Z"
   },
   {
    "duration": 21,
    "start_time": "2023-05-14T20:07:36.191Z"
   },
   {
    "duration": 10,
    "start_time": "2023-05-14T20:08:21.637Z"
   },
   {
    "duration": 15,
    "start_time": "2023-05-14T20:08:25.569Z"
   },
   {
    "duration": 11,
    "start_time": "2023-05-14T20:09:20.181Z"
   },
   {
    "duration": 14,
    "start_time": "2023-05-14T20:09:53.883Z"
   },
   {
    "duration": 1858,
    "start_time": "2023-05-15T07:00:38.201Z"
   },
   {
    "duration": 72,
    "start_time": "2023-05-15T07:00:40.061Z"
   },
   {
    "duration": 37,
    "start_time": "2023-05-15T07:00:40.135Z"
   },
   {
    "duration": 45,
    "start_time": "2023-05-15T07:00:40.174Z"
   },
   {
    "duration": 24,
    "start_time": "2023-05-15T07:00:40.221Z"
   },
   {
    "duration": 15,
    "start_time": "2023-05-15T07:00:40.247Z"
   },
   {
    "duration": 17,
    "start_time": "2023-05-15T07:00:40.264Z"
   },
   {
    "duration": 23,
    "start_time": "2023-05-15T07:00:40.283Z"
   },
   {
    "duration": 10,
    "start_time": "2023-05-15T07:00:40.308Z"
   },
   {
    "duration": 34,
    "start_time": "2023-05-15T07:00:40.321Z"
   },
   {
    "duration": 11,
    "start_time": "2023-05-15T07:00:40.357Z"
   },
   {
    "duration": 16,
    "start_time": "2023-05-15T07:00:40.370Z"
   },
   {
    "duration": 204,
    "start_time": "2023-05-15T07:00:40.388Z"
   },
   {
    "duration": 140,
    "start_time": "2023-05-15T07:00:40.596Z"
   },
   {
    "duration": 7,
    "start_time": "2023-05-15T07:00:40.738Z"
   },
   {
    "duration": 251,
    "start_time": "2023-05-15T07:00:40.747Z"
   },
   {
    "duration": 246,
    "start_time": "2023-05-15T07:00:41.000Z"
   },
   {
    "duration": 267,
    "start_time": "2023-05-15T07:00:41.248Z"
   },
   {
    "duration": 44,
    "start_time": "2023-05-15T07:00:41.517Z"
   },
   {
    "duration": 94,
    "start_time": "2023-05-15T07:00:41.564Z"
   },
   {
    "duration": 262,
    "start_time": "2023-05-15T07:00:41.662Z"
   },
   {
    "duration": 281,
    "start_time": "2023-05-15T07:00:41.927Z"
   },
   {
    "duration": 967,
    "start_time": "2023-05-15T07:00:42.210Z"
   },
   {
    "duration": 33,
    "start_time": "2023-05-15T07:00:43.178Z"
   },
   {
    "duration": 48,
    "start_time": "2023-05-15T07:00:43.213Z"
   },
   {
    "duration": 26,
    "start_time": "2023-05-15T07:00:43.263Z"
   },
   {
    "duration": 41,
    "start_time": "2023-05-15T07:00:43.291Z"
   },
   {
    "duration": 736,
    "start_time": "2023-05-15T07:16:07.282Z"
   },
   {
    "duration": 1404,
    "start_time": "2023-05-15T12:17:50.186Z"
   },
   {
    "duration": 100,
    "start_time": "2023-05-15T12:19:10.607Z"
   },
   {
    "duration": 2,
    "start_time": "2023-05-15T12:19:17.787Z"
   },
   {
    "duration": 226,
    "start_time": "2023-05-15T12:19:17.791Z"
   },
   {
    "duration": 33,
    "start_time": "2023-05-15T12:19:18.019Z"
   },
   {
    "duration": 39,
    "start_time": "2023-05-15T12:19:18.054Z"
   },
   {
    "duration": 22,
    "start_time": "2023-05-15T12:19:18.096Z"
   },
   {
    "duration": 6,
    "start_time": "2023-05-15T12:19:18.147Z"
   },
   {
    "duration": 15,
    "start_time": "2023-05-15T12:19:18.154Z"
   },
   {
    "duration": 14,
    "start_time": "2023-05-15T12:19:18.170Z"
   },
   {
    "duration": 25,
    "start_time": "2023-05-15T12:19:18.186Z"
   },
   {
    "duration": 48,
    "start_time": "2023-05-15T12:19:18.213Z"
   },
   {
    "duration": 10,
    "start_time": "2023-05-15T12:19:18.263Z"
   },
   {
    "duration": 9,
    "start_time": "2023-05-15T12:19:18.275Z"
   },
   {
    "duration": 9,
    "start_time": "2023-05-15T12:19:31.546Z"
   },
   {
    "duration": 9,
    "start_time": "2023-05-15T12:19:44.881Z"
   },
   {
    "duration": 5,
    "start_time": "2023-05-15T12:19:49.818Z"
   },
   {
    "duration": 5,
    "start_time": "2023-05-15T12:20:10.260Z"
   },
   {
    "duration": 4,
    "start_time": "2023-05-15T12:20:21.012Z"
   },
   {
    "duration": 13,
    "start_time": "2023-05-15T12:20:30.548Z"
   },
   {
    "duration": 9,
    "start_time": "2023-05-15T12:21:46.670Z"
   },
   {
    "duration": 128,
    "start_time": "2023-05-15T12:21:51.310Z"
   },
   {
    "duration": 123,
    "start_time": "2023-05-15T12:22:09.683Z"
   },
   {
    "duration": 450,
    "start_time": "2023-05-15T12:28:03.800Z"
   },
   {
    "duration": 8,
    "start_time": "2023-05-15T12:28:10.774Z"
   },
   {
    "duration": 12,
    "start_time": "2023-05-15T12:29:09.088Z"
   },
   {
    "duration": 8,
    "start_time": "2023-05-15T12:29:19.870Z"
   },
   {
    "duration": 6,
    "start_time": "2023-05-15T12:30:33.488Z"
   },
   {
    "duration": 9,
    "start_time": "2023-05-15T12:31:02.122Z"
   },
   {
    "duration": 8,
    "start_time": "2023-05-15T12:33:02.922Z"
   },
   {
    "duration": 7,
    "start_time": "2023-05-15T12:33:26.902Z"
   },
   {
    "duration": 4,
    "start_time": "2023-05-15T12:39:33.918Z"
   },
   {
    "duration": 11,
    "start_time": "2023-05-15T12:40:30.039Z"
   },
   {
    "duration": 113,
    "start_time": "2023-05-15T12:40:34.743Z"
   },
   {
    "duration": 159,
    "start_time": "2023-05-15T12:41:59.678Z"
   },
   {
    "duration": 62,
    "start_time": "2023-05-15T12:42:08.297Z"
   },
   {
    "duration": 77,
    "start_time": "2023-05-15T12:42:26.463Z"
   },
   {
    "duration": 11,
    "start_time": "2023-05-15T12:48:46.835Z"
   },
   {
    "duration": 3,
    "start_time": "2023-05-15T12:48:50.787Z"
   },
   {
    "duration": 103,
    "start_time": "2023-05-15T12:48:50.792Z"
   },
   {
    "duration": 29,
    "start_time": "2023-05-15T12:48:50.897Z"
   },
   {
    "duration": 41,
    "start_time": "2023-05-15T12:48:50.927Z"
   },
   {
    "duration": 24,
    "start_time": "2023-05-15T12:48:50.970Z"
   },
   {
    "duration": 5,
    "start_time": "2023-05-15T12:48:50.996Z"
   },
   {
    "duration": 12,
    "start_time": "2023-05-15T12:48:51.003Z"
   },
   {
    "duration": 32,
    "start_time": "2023-05-15T12:48:51.017Z"
   },
   {
    "duration": 5,
    "start_time": "2023-05-15T12:48:51.050Z"
   },
   {
    "duration": 35,
    "start_time": "2023-05-15T12:48:51.057Z"
   },
   {
    "duration": 12,
    "start_time": "2023-05-15T12:48:51.093Z"
   },
   {
    "duration": 9,
    "start_time": "2023-05-15T12:48:51.107Z"
   },
   {
    "duration": 195,
    "start_time": "2023-05-15T12:48:51.118Z"
   },
   {
    "duration": 142,
    "start_time": "2023-05-15T12:48:51.317Z"
   },
   {
    "duration": 8,
    "start_time": "2023-05-15T12:48:51.460Z"
   },
   {
    "duration": 174,
    "start_time": "2023-05-15T12:48:51.470Z"
   },
   {
    "duration": 300,
    "start_time": "2023-05-15T12:48:51.646Z"
   },
   {
    "duration": 241,
    "start_time": "2023-05-15T12:48:51.948Z"
   },
   {
    "duration": 278,
    "start_time": "2023-05-15T12:48:52.191Z"
   },
   {
    "duration": 44,
    "start_time": "2023-05-15T12:48:52.472Z"
   },
   {
    "duration": 72,
    "start_time": "2023-05-15T12:48:52.518Z"
   },
   {
    "duration": 263,
    "start_time": "2023-05-15T12:48:52.593Z"
   },
   {
    "duration": 268,
    "start_time": "2023-05-15T12:48:52.858Z"
   },
   {
    "duration": 1080,
    "start_time": "2023-05-15T12:49:01.978Z"
   },
   {
    "duration": 27,
    "start_time": "2023-05-15T12:49:11.081Z"
   },
   {
    "duration": 226,
    "start_time": "2023-05-15T12:52:17.054Z"
   },
   {
    "duration": 218,
    "start_time": "2023-05-15T12:52:40.298Z"
   },
   {
    "duration": 220,
    "start_time": "2023-05-15T12:52:54.058Z"
   },
   {
    "duration": 250,
    "start_time": "2023-05-15T12:53:44.109Z"
   },
   {
    "duration": 230,
    "start_time": "2023-05-15T12:54:08.075Z"
   },
   {
    "duration": 9,
    "start_time": "2023-05-15T13:01:58.442Z"
   },
   {
    "duration": 6,
    "start_time": "2023-05-15T13:02:25.301Z"
   },
   {
    "duration": 1268,
    "start_time": "2023-05-15T13:03:17.213Z"
   },
   {
    "duration": 68,
    "start_time": "2023-05-15T13:03:18.483Z"
   },
   {
    "duration": 31,
    "start_time": "2023-05-15T13:03:18.553Z"
   },
   {
    "duration": 66,
    "start_time": "2023-05-15T13:03:18.587Z"
   },
   {
    "duration": 24,
    "start_time": "2023-05-15T13:03:18.654Z"
   },
   {
    "duration": 6,
    "start_time": "2023-05-15T13:03:18.680Z"
   },
   {
    "duration": 15,
    "start_time": "2023-05-15T13:03:18.688Z"
   },
   {
    "duration": 81,
    "start_time": "2023-05-15T13:03:18.705Z"
   },
   {
    "duration": 57,
    "start_time": "2023-05-15T13:03:18.788Z"
   },
   {
    "duration": 34,
    "start_time": "2023-05-15T13:03:18.849Z"
   },
   {
    "duration": 15,
    "start_time": "2023-05-15T13:03:18.885Z"
   },
   {
    "duration": 10,
    "start_time": "2023-05-15T13:03:18.902Z"
   },
   {
    "duration": 211,
    "start_time": "2023-05-15T13:03:18.913Z"
   },
   {
    "duration": 159,
    "start_time": "2023-05-15T13:03:19.127Z"
   },
   {
    "duration": 8,
    "start_time": "2023-05-15T13:03:19.289Z"
   },
   {
    "duration": 96,
    "start_time": "2023-05-15T13:03:19.298Z"
   },
   {
    "duration": 245,
    "start_time": "2023-05-15T13:03:19.397Z"
   },
   {
    "duration": 243,
    "start_time": "2023-05-15T13:03:19.646Z"
   },
   {
    "duration": 243,
    "start_time": "2023-05-15T13:03:19.892Z"
   },
   {
    "duration": 40,
    "start_time": "2023-05-15T13:03:20.138Z"
   },
   {
    "duration": 68,
    "start_time": "2023-05-15T13:03:20.180Z"
   },
   {
    "duration": 247,
    "start_time": "2023-05-15T13:03:20.250Z"
   },
   {
    "duration": 326,
    "start_time": "2023-05-15T13:03:20.500Z"
   },
   {
    "duration": 222,
    "start_time": "2023-05-15T13:03:20.829Z"
   },
   {
    "duration": 244,
    "start_time": "2023-05-15T13:03:21.053Z"
   },
   {
    "duration": 875,
    "start_time": "2023-05-15T13:03:21.299Z"
   },
   {
    "duration": 25,
    "start_time": "2023-05-15T13:03:22.175Z"
   },
   {
    "duration": 6,
    "start_time": "2023-05-15T13:03:22.204Z"
   },
   {
    "duration": 6,
    "start_time": "2023-05-15T13:03:38.987Z"
   },
   {
    "duration": 7,
    "start_time": "2023-05-15T13:04:10.872Z"
   },
   {
    "duration": 7,
    "start_time": "2023-05-15T13:04:38.352Z"
   },
   {
    "duration": 8,
    "start_time": "2023-05-15T13:04:41.580Z"
   },
   {
    "duration": 6,
    "start_time": "2023-05-15T13:05:29.784Z"
   },
   {
    "duration": 6,
    "start_time": "2023-05-15T13:05:34.443Z"
   },
   {
    "duration": 7,
    "start_time": "2023-05-15T13:06:24.439Z"
   },
   {
    "duration": 7,
    "start_time": "2023-05-15T13:06:46.077Z"
   },
   {
    "duration": 6,
    "start_time": "2023-05-15T13:07:48.434Z"
   },
   {
    "duration": 12,
    "start_time": "2023-05-15T13:08:56.334Z"
   },
   {
    "duration": 10,
    "start_time": "2023-05-15T13:09:01.720Z"
   },
   {
    "duration": 11,
    "start_time": "2023-05-15T13:09:27.638Z"
   },
   {
    "duration": 6,
    "start_time": "2023-05-15T13:10:53.483Z"
   },
   {
    "duration": 1171,
    "start_time": "2023-05-15T13:11:03.502Z"
   },
   {
    "duration": 70,
    "start_time": "2023-05-15T13:11:04.675Z"
   },
   {
    "duration": 41,
    "start_time": "2023-05-15T13:11:04.748Z"
   },
   {
    "duration": 73,
    "start_time": "2023-05-15T13:11:04.792Z"
   },
   {
    "duration": 26,
    "start_time": "2023-05-15T13:11:04.867Z"
   },
   {
    "duration": 5,
    "start_time": "2023-05-15T13:11:04.895Z"
   },
   {
    "duration": 12,
    "start_time": "2023-05-15T13:11:04.902Z"
   },
   {
    "duration": 9,
    "start_time": "2023-05-15T13:11:04.947Z"
   },
   {
    "duration": 27,
    "start_time": "2023-05-15T13:11:04.958Z"
   },
   {
    "duration": 30,
    "start_time": "2023-05-15T13:11:04.989Z"
   },
   {
    "duration": 14,
    "start_time": "2023-05-15T13:11:05.020Z"
   },
   {
    "duration": 12,
    "start_time": "2023-05-15T13:11:05.036Z"
   },
   {
    "duration": 194,
    "start_time": "2023-05-15T13:11:05.049Z"
   },
   {
    "duration": 141,
    "start_time": "2023-05-15T13:11:05.246Z"
   },
   {
    "duration": 8,
    "start_time": "2023-05-15T13:11:05.390Z"
   },
   {
    "duration": 96,
    "start_time": "2023-05-15T13:11:05.400Z"
   },
   {
    "duration": 270,
    "start_time": "2023-05-15T13:11:05.498Z"
   },
   {
    "duration": 262,
    "start_time": "2023-05-15T13:11:05.771Z"
   },
   {
    "duration": 269,
    "start_time": "2023-05-15T13:11:06.035Z"
   },
   {
    "duration": 52,
    "start_time": "2023-05-15T13:11:06.306Z"
   },
   {
    "duration": 44,
    "start_time": "2023-05-15T13:11:06.360Z"
   },
   {
    "duration": 260,
    "start_time": "2023-05-15T13:11:06.406Z"
   },
   {
    "duration": 342,
    "start_time": "2023-05-15T13:11:06.668Z"
   },
   {
    "duration": 234,
    "start_time": "2023-05-15T13:11:07.012Z"
   },
   {
    "duration": 260,
    "start_time": "2023-05-15T13:11:07.248Z"
   },
   {
    "duration": 937,
    "start_time": "2023-05-15T13:11:07.510Z"
   },
   {
    "duration": 28,
    "start_time": "2023-05-15T13:11:08.449Z"
   },
   {
    "duration": 6,
    "start_time": "2023-05-15T13:11:08.480Z"
   },
   {
    "duration": 13,
    "start_time": "2023-05-15T13:11:08.488Z"
   },
   {
    "duration": 23,
    "start_time": "2023-05-15T13:11:08.503Z"
   },
   {
    "duration": 0,
    "start_time": "2023-05-15T13:17:03.034Z"
   },
   {
    "duration": 5881,
    "start_time": "2023-05-15T13:17:09.355Z"
   },
   {
    "duration": 1774,
    "start_time": "2023-05-15T13:17:59.843Z"
   },
   {
    "duration": 10,
    "start_time": "2023-05-15T13:18:59.251Z"
   },
   {
    "duration": 9,
    "start_time": "2023-05-15T13:20:14.027Z"
   },
   {
    "duration": 10,
    "start_time": "2023-05-15T13:23:46.079Z"
   },
   {
    "duration": 3,
    "start_time": "2023-05-15T13:36:48.490Z"
   },
   {
    "duration": 1334,
    "start_time": "2023-05-15T13:36:59.363Z"
   },
   {
    "duration": 71,
    "start_time": "2023-05-15T13:37:00.700Z"
   },
   {
    "duration": 37,
    "start_time": "2023-05-15T13:37:00.773Z"
   },
   {
    "duration": 67,
    "start_time": "2023-05-15T13:37:00.812Z"
   },
   {
    "duration": 25,
    "start_time": "2023-05-15T13:37:00.880Z"
   },
   {
    "duration": 22,
    "start_time": "2023-05-15T13:37:00.907Z"
   },
   {
    "duration": 45,
    "start_time": "2023-05-15T13:37:00.945Z"
   },
   {
    "duration": 48,
    "start_time": "2023-05-15T13:37:00.993Z"
   },
   {
    "duration": 67,
    "start_time": "2023-05-15T13:37:01.044Z"
   },
   {
    "duration": 90,
    "start_time": "2023-05-15T13:37:01.114Z"
   },
   {
    "duration": 20,
    "start_time": "2023-05-15T13:37:01.207Z"
   },
   {
    "duration": 74,
    "start_time": "2023-05-15T13:37:01.229Z"
   },
   {
    "duration": 231,
    "start_time": "2023-05-15T13:37:01.307Z"
   },
   {
    "duration": 148,
    "start_time": "2023-05-15T13:37:01.547Z"
   },
   {
    "duration": 12,
    "start_time": "2023-05-15T13:37:01.698Z"
   },
   {
    "duration": 235,
    "start_time": "2023-05-15T13:37:01.712Z"
   },
   {
    "duration": 242,
    "start_time": "2023-05-15T13:37:01.949Z"
   },
   {
    "duration": 273,
    "start_time": "2023-05-15T13:37:02.193Z"
   },
   {
    "duration": 257,
    "start_time": "2023-05-15T13:37:02.468Z"
   },
   {
    "duration": 49,
    "start_time": "2023-05-15T13:37:02.727Z"
   },
   {
    "duration": 55,
    "start_time": "2023-05-15T13:37:02.778Z"
   },
   {
    "duration": 396,
    "start_time": "2023-05-15T13:37:02.848Z"
   },
   {
    "duration": 318,
    "start_time": "2023-05-15T13:37:03.247Z"
   },
   {
    "duration": 207,
    "start_time": "2023-05-15T13:37:03.567Z"
   },
   {
    "duration": 230,
    "start_time": "2023-05-15T13:37:03.776Z"
   },
   {
    "duration": 881,
    "start_time": "2023-05-15T13:37:04.008Z"
   },
   {
    "duration": 24,
    "start_time": "2023-05-15T13:37:04.891Z"
   },
   {
    "duration": 35,
    "start_time": "2023-05-15T13:37:04.918Z"
   },
   {
    "duration": 29,
    "start_time": "2023-05-15T13:37:04.957Z"
   },
   {
    "duration": 24,
    "start_time": "2023-05-15T13:37:04.988Z"
   },
   {
    "duration": 1162,
    "start_time": "2023-05-16T06:25:24.690Z"
   },
   {
    "duration": 75,
    "start_time": "2023-05-16T06:25:25.854Z"
   },
   {
    "duration": 36,
    "start_time": "2023-05-16T06:25:25.931Z"
   },
   {
    "duration": 49,
    "start_time": "2023-05-16T06:25:25.973Z"
   },
   {
    "duration": 44,
    "start_time": "2023-05-16T06:25:26.025Z"
   },
   {
    "duration": 8,
    "start_time": "2023-05-16T06:25:26.071Z"
   },
   {
    "duration": 9,
    "start_time": "2023-05-16T06:25:26.080Z"
   },
   {
    "duration": 13,
    "start_time": "2023-05-16T06:25:26.091Z"
   },
   {
    "duration": 8,
    "start_time": "2023-05-16T06:25:26.106Z"
   },
   {
    "duration": 27,
    "start_time": "2023-05-16T06:25:26.115Z"
   },
   {
    "duration": 18,
    "start_time": "2023-05-16T06:25:26.157Z"
   },
   {
    "duration": 8,
    "start_time": "2023-05-16T06:25:26.177Z"
   },
   {
    "duration": 207,
    "start_time": "2023-05-16T06:25:26.187Z"
   },
   {
    "duration": 127,
    "start_time": "2023-05-16T06:25:26.397Z"
   },
   {
    "duration": 7,
    "start_time": "2023-05-16T06:25:26.526Z"
   },
   {
    "duration": 89,
    "start_time": "2023-05-16T06:25:26.534Z"
   },
   {
    "duration": 248,
    "start_time": "2023-05-16T06:25:26.625Z"
   },
   {
    "duration": 239,
    "start_time": "2023-05-16T06:25:26.875Z"
   },
   {
    "duration": 244,
    "start_time": "2023-05-16T06:25:27.116Z"
   },
   {
    "duration": 37,
    "start_time": "2023-05-16T06:25:27.362Z"
   },
   {
    "duration": 40,
    "start_time": "2023-05-16T06:25:27.401Z"
   },
   {
    "duration": 243,
    "start_time": "2023-05-16T06:25:27.458Z"
   },
   {
    "duration": 312,
    "start_time": "2023-05-16T06:25:27.702Z"
   },
   {
    "duration": 217,
    "start_time": "2023-05-16T06:25:28.017Z"
   },
   {
    "duration": 240,
    "start_time": "2023-05-16T06:25:28.236Z"
   },
   {
    "duration": 869,
    "start_time": "2023-05-16T06:25:28.478Z"
   },
   {
    "duration": 33,
    "start_time": "2023-05-16T06:25:29.349Z"
   },
   {
    "duration": 6,
    "start_time": "2023-05-16T06:25:29.384Z"
   },
   {
    "duration": 6,
    "start_time": "2023-05-16T06:25:29.392Z"
   },
   {
    "duration": 10,
    "start_time": "2023-05-16T06:25:29.400Z"
   },
   {
    "duration": 8,
    "start_time": "2023-05-16T06:28:04.558Z"
   },
   {
    "duration": 234,
    "start_time": "2023-05-16T06:29:27.409Z"
   },
   {
    "duration": 132,
    "start_time": "2023-05-16T06:29:33.283Z"
   },
   {
    "duration": 105,
    "start_time": "2023-05-16T06:29:52.461Z"
   },
   {
    "duration": 1284,
    "start_time": "2023-05-16T06:41:15.146Z"
   },
   {
    "duration": 79,
    "start_time": "2023-05-16T06:41:16.432Z"
   },
   {
    "duration": 31,
    "start_time": "2023-05-16T06:41:16.513Z"
   },
   {
    "duration": 58,
    "start_time": "2023-05-16T06:41:16.546Z"
   },
   {
    "duration": 23,
    "start_time": "2023-05-16T06:41:16.605Z"
   },
   {
    "duration": 13,
    "start_time": "2023-05-16T06:41:16.630Z"
   },
   {
    "duration": 28,
    "start_time": "2023-05-16T06:41:16.644Z"
   },
   {
    "duration": 8,
    "start_time": "2023-05-16T06:41:16.676Z"
   },
   {
    "duration": 5,
    "start_time": "2023-05-16T06:41:16.686Z"
   },
   {
    "duration": 29,
    "start_time": "2023-05-16T06:41:16.693Z"
   },
   {
    "duration": 46,
    "start_time": "2023-05-16T06:41:16.723Z"
   },
   {
    "duration": 10,
    "start_time": "2023-05-16T06:41:16.771Z"
   },
   {
    "duration": 217,
    "start_time": "2023-05-16T06:41:16.783Z"
   },
   {
    "duration": 135,
    "start_time": "2023-05-16T06:41:17.002Z"
   },
   {
    "duration": 6,
    "start_time": "2023-05-16T06:41:17.139Z"
   },
   {
    "duration": 80,
    "start_time": "2023-05-16T06:41:17.159Z"
   },
   {
    "duration": 126,
    "start_time": "2023-05-16T06:41:17.240Z"
   },
   {
    "duration": 239,
    "start_time": "2023-05-16T06:41:17.368Z"
   },
   {
    "duration": 257,
    "start_time": "2023-05-16T06:41:17.609Z"
   },
   {
    "duration": 240,
    "start_time": "2023-05-16T06:41:17.867Z"
   },
   {
    "duration": 37,
    "start_time": "2023-05-16T06:41:18.109Z"
   },
   {
    "duration": 54,
    "start_time": "2023-05-16T06:41:18.161Z"
   },
   {
    "duration": 251,
    "start_time": "2023-05-16T06:41:18.216Z"
   },
   {
    "duration": 309,
    "start_time": "2023-05-16T06:41:18.469Z"
   },
   {
    "duration": 231,
    "start_time": "2023-05-16T06:41:18.781Z"
   },
   {
    "duration": 219,
    "start_time": "2023-05-16T06:41:19.013Z"
   },
   {
    "duration": 863,
    "start_time": "2023-05-16T06:41:19.233Z"
   },
   {
    "duration": 22,
    "start_time": "2023-05-16T06:41:20.099Z"
   },
   {
    "duration": 127,
    "start_time": "2023-05-16T06:41:20.122Z"
   },
   {
    "duration": 0,
    "start_time": "2023-05-16T06:41:20.250Z"
   },
   {
    "duration": 0,
    "start_time": "2023-05-16T06:41:20.251Z"
   },
   {
    "duration": 0,
    "start_time": "2023-05-16T06:41:20.253Z"
   },
   {
    "duration": 7,
    "start_time": "2023-05-16T06:41:31.696Z"
   },
   {
    "duration": 7,
    "start_time": "2023-05-16T06:44:10.988Z"
   },
   {
    "duration": 5,
    "start_time": "2023-05-16T06:46:05.405Z"
   },
   {
    "duration": 11,
    "start_time": "2023-05-16T06:46:05.413Z"
   },
   {
    "duration": 1368,
    "start_time": "2023-05-16T08:12:22.729Z"
   },
   {
    "duration": 194,
    "start_time": "2023-05-16T08:12:24.099Z"
   },
   {
    "duration": 39,
    "start_time": "2023-05-16T08:12:24.296Z"
   },
   {
    "duration": 74,
    "start_time": "2023-05-16T08:12:24.337Z"
   },
   {
    "duration": 29,
    "start_time": "2023-05-16T08:12:24.412Z"
   },
   {
    "duration": 11,
    "start_time": "2023-05-16T08:12:24.443Z"
   },
   {
    "duration": 21,
    "start_time": "2023-05-16T08:12:24.455Z"
   },
   {
    "duration": 22,
    "start_time": "2023-05-16T08:12:24.478Z"
   },
   {
    "duration": 5,
    "start_time": "2023-05-16T08:12:24.502Z"
   },
   {
    "duration": 37,
    "start_time": "2023-05-16T08:12:24.510Z"
   },
   {
    "duration": 16,
    "start_time": "2023-05-16T08:12:24.551Z"
   },
   {
    "duration": 33,
    "start_time": "2023-05-16T08:12:24.569Z"
   },
   {
    "duration": 253,
    "start_time": "2023-05-16T08:12:24.605Z"
   },
   {
    "duration": 186,
    "start_time": "2023-05-16T08:12:24.861Z"
   },
   {
    "duration": 8,
    "start_time": "2023-05-16T08:12:25.049Z"
   },
   {
    "duration": 98,
    "start_time": "2023-05-16T08:12:25.058Z"
   },
   {
    "duration": 116,
    "start_time": "2023-05-16T08:12:25.158Z"
   },
   {
    "duration": 197,
    "start_time": "2023-05-16T08:12:25.276Z"
   },
   {
    "duration": 222,
    "start_time": "2023-05-16T08:12:25.475Z"
   },
   {
    "duration": 230,
    "start_time": "2023-05-16T08:12:25.699Z"
   },
   {
    "duration": 32,
    "start_time": "2023-05-16T08:12:25.930Z"
   },
   {
    "duration": 57,
    "start_time": "2023-05-16T08:12:25.964Z"
   },
   {
    "duration": 266,
    "start_time": "2023-05-16T08:12:26.023Z"
   },
   {
    "duration": 319,
    "start_time": "2023-05-16T08:12:26.290Z"
   },
   {
    "duration": 245,
    "start_time": "2023-05-16T08:12:26.611Z"
   },
   {
    "duration": 262,
    "start_time": "2023-05-16T08:12:26.861Z"
   },
   {
    "duration": 812,
    "start_time": "2023-05-16T08:12:27.125Z"
   },
   {
    "duration": 27,
    "start_time": "2023-05-16T08:12:27.941Z"
   },
   {
    "duration": 17,
    "start_time": "2023-05-16T08:12:27.970Z"
   },
   {
    "duration": 7,
    "start_time": "2023-05-16T08:12:27.995Z"
   },
   {
    "duration": 12,
    "start_time": "2023-05-16T08:12:28.004Z"
   },
   {
    "duration": 21,
    "start_time": "2023-05-16T08:12:28.018Z"
   },
   {
    "duration": 132,
    "start_time": "2023-05-16T08:14:47.135Z"
   },
   {
    "duration": 7,
    "start_time": "2023-05-16T08:15:17.237Z"
   },
   {
    "duration": 1476,
    "start_time": "2023-05-16T15:21:58.433Z"
   },
   {
    "duration": 105,
    "start_time": "2023-05-16T15:21:59.912Z"
   },
   {
    "duration": 60,
    "start_time": "2023-05-16T15:22:00.020Z"
   },
   {
    "duration": 105,
    "start_time": "2023-05-16T15:22:00.089Z"
   },
   {
    "duration": 121,
    "start_time": "2023-05-16T15:22:00.198Z"
   },
   {
    "duration": 78,
    "start_time": "2023-05-16T15:22:00.322Z"
   },
   {
    "duration": 107,
    "start_time": "2023-05-16T15:22:00.402Z"
   },
   {
    "duration": 143,
    "start_time": "2023-05-16T15:22:00.511Z"
   },
   {
    "duration": 142,
    "start_time": "2023-05-16T15:22:00.657Z"
   },
   {
    "duration": 193,
    "start_time": "2023-05-16T15:22:00.801Z"
   },
   {
    "duration": 110,
    "start_time": "2023-05-16T15:22:01.000Z"
   },
   {
    "duration": 191,
    "start_time": "2023-05-16T15:22:01.113Z"
   },
   {
    "duration": 487,
    "start_time": "2023-05-16T15:22:01.306Z"
   },
   {
    "duration": 310,
    "start_time": "2023-05-16T15:22:01.806Z"
   },
   {
    "duration": 11,
    "start_time": "2023-05-16T15:22:02.119Z"
   },
   {
    "duration": 301,
    "start_time": "2023-05-16T15:22:02.133Z"
   },
   {
    "duration": 166,
    "start_time": "2023-05-16T15:22:02.437Z"
   },
   {
    "duration": 295,
    "start_time": "2023-05-16T15:22:02.606Z"
   },
   {
    "duration": 337,
    "start_time": "2023-05-16T15:22:02.903Z"
   },
   {
    "duration": 332,
    "start_time": "2023-05-16T15:22:03.242Z"
   },
   {
    "duration": 48,
    "start_time": "2023-05-16T15:22:03.584Z"
   },
   {
    "duration": 60,
    "start_time": "2023-05-16T15:22:03.635Z"
   },
   {
    "duration": 327,
    "start_time": "2023-05-16T15:22:03.697Z"
   },
   {
    "duration": 414,
    "start_time": "2023-05-16T15:22:04.027Z"
   },
   {
    "duration": 277,
    "start_time": "2023-05-16T15:22:04.444Z"
   },
   {
    "duration": 339,
    "start_time": "2023-05-16T15:22:04.724Z"
   },
   {
    "duration": 1170,
    "start_time": "2023-05-16T15:22:05.070Z"
   },
   {
    "duration": 58,
    "start_time": "2023-05-16T15:22:06.243Z"
   },
   {
    "duration": 24,
    "start_time": "2023-05-16T15:22:06.304Z"
   },
   {
    "duration": 52,
    "start_time": "2023-05-16T15:22:06.331Z"
   },
   {
    "duration": 54,
    "start_time": "2023-05-16T15:22:06.386Z"
   },
   {
    "duration": 36,
    "start_time": "2023-05-16T15:22:06.443Z"
   },
   {
    "duration": 280,
    "start_time": "2023-05-16T15:24:01.684Z"
   },
   {
    "duration": 2347,
    "start_time": "2023-05-17T19:15:23.822Z"
   },
   {
    "duration": 539,
    "start_time": "2023-05-17T19:15:26.178Z"
   },
   {
    "duration": 67,
    "start_time": "2023-05-17T19:15:26.730Z"
   },
   {
    "duration": 67,
    "start_time": "2023-05-17T19:15:26.803Z"
   },
   {
    "duration": 56,
    "start_time": "2023-05-17T19:15:26.873Z"
   },
   {
    "duration": 13,
    "start_time": "2023-05-17T19:15:26.935Z"
   },
   {
    "duration": 14,
    "start_time": "2023-05-17T19:15:26.954Z"
   },
   {
    "duration": 24,
    "start_time": "2023-05-17T19:15:26.969Z"
   },
   {
    "duration": 8,
    "start_time": "2023-05-17T19:15:26.995Z"
   },
   {
    "duration": 41,
    "start_time": "2023-05-17T19:15:27.007Z"
   },
   {
    "duration": 30,
    "start_time": "2023-05-17T19:15:27.054Z"
   },
   {
    "duration": 18,
    "start_time": "2023-05-17T19:15:27.093Z"
   },
   {
    "duration": 307,
    "start_time": "2023-05-17T19:15:27.117Z"
   },
   {
    "duration": 165,
    "start_time": "2023-05-17T19:15:27.431Z"
   },
   {
    "duration": 7,
    "start_time": "2023-05-17T19:15:27.597Z"
   },
   {
    "duration": 140,
    "start_time": "2023-05-17T19:15:27.606Z"
   },
   {
    "duration": 155,
    "start_time": "2023-05-17T19:15:27.748Z"
   },
   {
    "duration": 315,
    "start_time": "2023-05-17T19:15:27.905Z"
   },
   {
    "duration": 319,
    "start_time": "2023-05-17T19:15:28.222Z"
   },
   {
    "duration": 349,
    "start_time": "2023-05-17T19:15:28.544Z"
   },
   {
    "duration": 62,
    "start_time": "2023-05-17T19:15:28.905Z"
   },
   {
    "duration": 73,
    "start_time": "2023-05-17T19:15:28.969Z"
   },
   {
    "duration": 402,
    "start_time": "2023-05-17T19:15:29.047Z"
   },
   {
    "duration": 532,
    "start_time": "2023-05-17T19:15:29.458Z"
   },
   {
    "duration": 320,
    "start_time": "2023-05-17T19:15:29.992Z"
   },
   {
    "duration": 357,
    "start_time": "2023-05-17T19:15:30.320Z"
   },
   {
    "duration": 1582,
    "start_time": "2023-05-17T19:15:30.680Z"
   },
   {
    "duration": 26,
    "start_time": "2023-05-17T19:15:32.264Z"
   },
   {
    "duration": 12,
    "start_time": "2023-05-17T19:15:32.292Z"
   },
   {
    "duration": 5,
    "start_time": "2023-05-17T19:15:32.308Z"
   },
   {
    "duration": 27,
    "start_time": "2023-05-17T19:15:32.314Z"
   },
   {
    "duration": 19,
    "start_time": "2023-05-17T19:15:32.343Z"
   },
   {
    "duration": 30,
    "start_time": "2023-05-17T19:16:05.307Z"
   }
  ],
  "kernelspec": {
   "display_name": "Python 3 (ipykernel)",
   "language": "python",
   "name": "python3"
  },
  "language_info": {
   "codemirror_mode": {
    "name": "ipython",
    "version": 3
   },
   "file_extension": ".py",
   "mimetype": "text/x-python",
   "name": "python",
   "nbconvert_exporter": "python",
   "pygments_lexer": "ipython3",
   "version": "3.9.5"
  },
  "toc": {
   "base_numbering": 1,
   "nav_menu": {},
   "number_sections": true,
   "sideBar": true,
   "skip_h1_title": true,
   "title_cell": "Table of Contents",
   "title_sidebar": "Contents",
   "toc_cell": false,
   "toc_position": {},
   "toc_section_display": true,
   "toc_window_display": false
  }
 },
 "nbformat": 4,
 "nbformat_minor": 5
}
